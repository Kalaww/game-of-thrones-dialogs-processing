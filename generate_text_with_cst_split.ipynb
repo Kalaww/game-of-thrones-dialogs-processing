{
 "cells": [
  {
   "cell_type": "code",
   "execution_count": 1,
   "metadata": {
    "collapsed": false
   },
   "outputs": [
    {
     "name": "stderr",
     "output_type": "stream",
     "text": [
      "Using Theano backend.\n",
      "Using gpu device 0: GeForce GTX 850M (CNMeM is disabled, cuDNN 5105)\n",
      "/home/ursa/lib/anaconda2/envs/cv/lib/python2.7/site-packages/theano/sandbox/cuda/__init__.py:600: UserWarning: Your cuDNN version is more recent than the one Theano officially supports. If you see any problems, try updating Theano or downgrading cuDNN to version 5.\n",
      "  warnings.warn(warn)\n"
     ]
    }
   ],
   "source": [
    "from __future__ import division, print_function\n",
    "import numpy as np\n",
    "\n",
    "from keras.models import Sequential\n",
    "from keras.layers import Embedding, Dropout, Activation\n",
    "from keras.layers import LSTM, TimeDistributed, Dense\n",
    "from keras.optimizers import Adam\n",
    "from keras.preprocessing import sequence"
   ]
  },
  {
   "cell_type": "code",
   "execution_count": 2,
   "metadata": {
    "collapsed": true
   },
   "outputs": [],
   "source": [
    "sentences = []\n",
    "fd = open('data/sentences.txt', 'r')\n",
    "for line in fd:\n",
    "    sentences.append(line[:-1])\n",
    "fd.close()"
   ]
  },
  {
   "cell_type": "code",
   "execution_count": 3,
   "metadata": {
    "collapsed": false
   },
   "outputs": [
    {
     "name": "stdout",
     "output_type": "stream",
     "text": [
      "Number of sentences: 29878\n",
      "Average sentence length:  41.7722404445\n"
     ]
    }
   ],
   "source": [
    "print('Number of sentences:', len(sentences))\n",
    "print('Average sentence length: ', np.sum([len(l) for l in sentences]) / len(sentences))"
   ]
  },
  {
   "cell_type": "code",
   "execution_count": 4,
   "metadata": {
    "collapsed": false
   },
   "outputs": [
    {
     "name": "stdout",
     "output_type": "stream",
     "text": [
      "Corpus length: 1277948\n"
     ]
    }
   ],
   "source": [
    "corpus = ' '.join(sentences)\n",
    "print('Corpus length:', len(corpus))"
   ]
  },
  {
   "cell_type": "code",
   "execution_count": 5,
   "metadata": {
    "collapsed": false
   },
   "outputs": [
    {
     "name": "stdout",
     "output_type": "stream",
     "text": [
      "Total chars: 72\n",
      "  ! \" ' , . 0 1 2 3 4 5 6 7 8 9 : ; ? A B C D E F G H I J K L M N O P Q R S T U V W X Y Z _ a b c d e f g h i j k l m n o p q r s t u v w x y z\n"
     ]
    }
   ],
   "source": [
    "chars = sorted(list(set(corpus)))\n",
    "vocab_size = len(chars)\n",
    "print('Total chars:', len(chars))\n",
    "print(' '.join(chars))"
   ]
  },
  {
   "cell_type": "code",
   "execution_count": 6,
   "metadata": {
    "collapsed": false
   },
   "outputs": [],
   "source": [
    "char_indices = dict((c, i) for i,c in enumerate(chars))\n",
    "indices_char = dict((i, c) for i,c in enumerate(chars))"
   ]
  },
  {
   "cell_type": "code",
   "execution_count": 7,
   "metadata": {
    "collapsed": false
   },
   "outputs": [],
   "source": [
    "corpus_idx = [char_indices[c] for c in corpus]"
   ]
  },
  {
   "cell_type": "markdown",
   "metadata": {},
   "source": [
    "# Preprocessing"
   ]
  },
  {
   "cell_type": "code",
   "execution_count": 8,
   "metadata": {
    "collapsed": true
   },
   "outputs": [],
   "source": [
    "maxlen = 40\n",
    "x = []\n",
    "y = []"
   ]
  },
  {
   "cell_type": "code",
   "execution_count": 9,
   "metadata": {
    "collapsed": false
   },
   "outputs": [
    {
     "name": "stdout",
     "output_type": "stream",
     "text": [
      "x: 1277908 y: 1277908\n"
     ]
    }
   ],
   "source": [
    "for i in range(0, len(corpus_idx) - maxlen):\n",
    "    x.append(corpus_idx[i:i+maxlen])\n",
    "    y.append(corpus_idx[i+1:i+maxlen+1])\n",
    "print('x:', len(x), 'y:', len(y))"
   ]
  },
  {
   "cell_type": "code",
   "execution_count": 10,
   "metadata": {
    "collapsed": false
   },
   "outputs": [
    {
     "name": "stdout",
     "output_type": "stream",
     "text": [
      "x: (1277907, 40) y: (1277907, 40)\n"
     ]
    }
   ],
   "source": [
    "x = np.concatenate([[np.array(i)] for i in x[:-1]])\n",
    "y = np.concatenate([[np.array(i)] for i in y[:-1]])\n",
    "print('x:', x.shape, 'y:', y.shape)"
   ]
  },
  {
   "cell_type": "code",
   "execution_count": 11,
   "metadata": {
    "collapsed": false
   },
   "outputs": [
    {
     "name": "stdout",
     "output_type": "stream",
     "text": [
      "[46 64 70  4  0 47 60 70  5  0 41 53 46 65  0 49 60  0 70 60 66  0 50 69 61\n",
      " 50 48 65 18  0 38 53 50 70  3 63 50  0 64 46]\n",
      "[64 70  4  0 47 60 70  5  0 41 53 46 65  0 49 60  0 70 60 66  0 50 69 61 50\n",
      " 48 65 18  0 38 53 50 70  3 63 50  0 64 46 67]\n"
     ]
    }
   ],
   "source": [
    "print(x[1])\n",
    "print(y[1])"
   ]
  },
  {
   "cell_type": "markdown",
   "metadata": {},
   "source": [
    "# Model"
   ]
  },
  {
   "cell_type": "code",
   "execution_count": 12,
   "metadata": {
    "collapsed": false
   },
   "outputs": [],
   "source": [
    "model = Sequential()\n",
    "\n",
    "model.add(Embedding(vocab_size, 24, input_length=maxlen))\n",
    "model.add(LSTM(\n",
    "            256,\n",
    "            return_sequences=True,\n",
    "            dropout_U=0.2,\n",
    "            dropout_W=0.2,\n",
    "            consume_less='gpu'))\n",
    "model.add(Dropout(0.2))\n",
    "model.add(LSTM(\n",
    "            256,\n",
    "            return_sequences=True,\n",
    "            dropout_U=0.2,\n",
    "            dropout_W=0.2,\n",
    "            consume_less='gpu'))\n",
    "model.add(TimeDistributed(Dense(vocab_size)))\n",
    "model.add(Activation('softmax'))"
   ]
  },
  {
   "cell_type": "code",
   "execution_count": 13,
   "metadata": {
    "collapsed": true
   },
   "outputs": [],
   "source": [
    "model.compile(\n",
    "    loss='sparse_categorical_crossentropy',\n",
    "    optimizer=Adam()\n",
    ")"
   ]
  },
  {
   "cell_type": "code",
   "execution_count": 14,
   "metadata": {
    "collapsed": true
   },
   "outputs": [],
   "source": [
    "model.optimizer.lr = 0.001"
   ]
  },
  {
   "cell_type": "code",
   "execution_count": 15,
   "metadata": {
    "collapsed": true
   },
   "outputs": [],
   "source": [
    "def print_example(start, n_char, maxlen):\n",
    "    for i in range(n_char):\n",
    "        start_idx = [char_indices[c] for c in start]\n",
    "        z = sequence.pad_sequences([start_idx], maxlen=maxlen, truncating='pre')\n",
    "        preds = model.predict(z, verbose=0)[0][-1]\n",
    "        next_char = np.random.choice(chars, p=preds)\n",
    "        start = start + next_char\n",
    "    print(start)"
   ]
  },
  {
   "cell_type": "code",
   "execution_count": 16,
   "metadata": {
    "collapsed": true
   },
   "outputs": [],
   "source": [
    "def train():\n",
    "    model.fit(\n",
    "        x,\n",
    "        np.expand_dims(y, -1),\n",
    "        batch_size=64,\n",
    "        nb_epoch=1,\n",
    "        shuffle=True\n",
    "    )"
   ]
  },
  {
   "cell_type": "code",
   "execution_count": 17,
   "metadata": {
    "collapsed": false
   },
   "outputs": [
    {
     "name": "stdout",
     "output_type": "stream",
     "text": [
      "STEP 1\n",
      "Epoch 1/1\n",
      "1277907/1277907 [==============================] - 2426s - loss: 1.5340  \n",
      "Winter is coming. Wait since the best of clamper have been dream to be happy, at Jon Snow, they? You're done in the end of my fighting. What did you die flew will think I can be not a nage and's word to do this cell. This most of my sons religions. My mother's a king as you've been in the death is time. She didn't you remember. What's gone. I'm long how will be the world, how did I efjisted lying. Otherwing who gu\n",
      "\n",
      "STEP 2\n",
      "Epoch 1/1\n",
      "1277907/1277907 [==============================] - 2466s - loss: 1.3479  \n",
      "Winter is coming. She says come and the saddown is dead. Sometimes, it was the Master Commander of our own grandsonn. He was back. My dragonslop! Will you bloody lotting to run these long stranger, like, but uncle Makgaery. You recognize the name is or I has enough with Robert lick other table missions. What you'll have a good after good to hear a treason? Here's a senister on the King boy the hand. My lord. I dem\n",
      "\n",
      "STEP 3\n",
      "Epoch 1/1\n",
      "1277907/1277907 [==============================] - 2783s - loss: 1.3195  \n",
      "Winter is coming. One words matter. Oh, a realm, they are, now I always always been sift. This is drunk, too. It'll be mine. The cold fear their dears of the Wall has in my brother's powerful on a lion's arm. If you said once to stage defeated the Eyrie a fighter of the Vale and sworn. You're not here 17 shame. Hmm. I truth his chairs in saarior. I was no child, but \"beath the Piper's important. How did you know. \n",
      "\n",
      "STEP 4\n",
      "Epoch 1/1\n",
      "1277907/1277907 [==============================] - 2430s - loss: 1.3040  \n",
      "Winter is coming. I know you've never got sure you might bue my baby. A king, a string to hear them in ruler those rebellion? Come? But we were better. Just spoke, the Crown lay when I rog worth survive, do you know why? Know. Tywin's 30,000 army. That will be always moaths are betrayed Lord Vahan lives. Please want to murder you. The slaves grew for me. He pays off her of you. My Snow. He'll be a shave adventual \n",
      "\n",
      "STEP 5\n",
      "Epoch 1/1\n",
      "1277907/1277907 [==============================] - 2692s - loss: 1.2937  \n",
      "Winter is coming. Clean your half in this. Till repoct. I'll gran Ser Davos? That isn't doing to make his cartaryens, there's going no true enemies. I like everything Lannister is dead! Sarty, it's under sort recently to kill Robb Stark. Help you like a bit wetter! No! He comes. If you left your prisoners. He tried your lifes? In killing me, are you? So, Girl. I saw for the North! I'd let him murdered my own tongu\n",
      "\n"
     ]
    }
   ],
   "source": [
    "for i in range(5):\n",
    "    print('STEP', i+1)\n",
    "    train()\n",
    "    print_example('Winter is coming.', 400, maxlen)\n",
    "    print()"
   ]
  },
  {
   "cell_type": "code",
   "execution_count": 18,
   "metadata": {
    "collapsed": true
   },
   "outputs": [],
   "source": [
    "model.save_weights('data/model_5.hf5')"
   ]
  },
  {
   "cell_type": "code",
   "execution_count": 19,
   "metadata": {
    "collapsed": false
   },
   "outputs": [
    {
     "name": "stdout",
     "output_type": "stream",
     "text": [
      "STEP 1\n",
      "Epoch 1/1\n",
      "1277907/1277907 [==============================] - 2559s - loss: 1.2860  \n",
      "Winter is coming. My mother's will be? I will be kings cried. A girl and you dreaming the Numh little brother's place? Save me to mein it brother. He's been doing for defends, Princess. I have to steal now room. Do you know why? What so happy. The Harpy have saying it. Noble mine of his way. You're not the mittle birth more than you all this woman of the right. I must make me a day if he trying in my experience wi\n",
      "\n",
      "STEP 2\n",
      "Epoch 1/1\n",
      "1277907/1277907 [==============================] - 2486s - loss: 1.2798  \n",
      "Winter is coming. The Wall is my last lords of my bear in a crime. Very young time, lady! You march us when this is my son in many arms. People bitch. I must tell them this woman. You had a whore. Cut him and depend them all any man. We have to know part of Master Aegon's old hands blood of Lord Tywin Lannister Aegon in him. Why are you swallowing to Castle Black, don't think I all right for each other. Has caved \n",
      "\n",
      "STEP 3\n",
      "Epoch 1/1\n",
      "1277907/1277907 [==============================] - 2409s - loss: 1.2746  \n",
      "Winter is coming. Stannis saw it through them. He's ready good to the world together right. Clear the sellsword. \" When I had only done his heir? You're standing here are a darkness of a white watch. High lords into the North. The other cousins of the lord is more than most executions for Astapor. He's my son will swallow me for you. In the world and over well, what are you? No? Take him when we don't last a black\n",
      "\n",
      "STEP 4\n",
      "Epoch 1/1\n",
      "1277907/1277907 [==============================] - 2466s - loss: 1.2698  \n",
      "Winter is coming. The prickly will spend the Wall. Because our men goes much king's wedding or that it, all of them into battlefield from the lands. I see the castle deal, you leaded to see the deep when very beauty. Lady Blackwater? I flock them in the battle clothes, it was line. My father have been Your story about them. We didn't powerful people before it's the Freys of them. I am my friends. Tell you would be\n",
      "\n",
      "STEP 5\n",
      "Epoch 1/1\n",
      "1277907/1277907 [==============================] - 2526s - loss: 1.2656  \n",
      "Winter is coming. Who, we need to have today? I think I had no tradition. I'm going to end up, we're only our moment. Bay my son take in you. For years. Come on, come on. How do I remember? It's not the same after you thought they didn't care away now? Why should you decide to die. I'm took for our queen. What's your lot, so much? I'll risk at it. You got a choice to see him with 17? If you listen to me, Lord. No \n",
      "\n",
      "STEP 6\n",
      "Epoch 1/1\n",
      "1277907/1277907 [==============================] - 2519s - loss: 1.2622  \n",
      "Winter is coming. I was a servant for your promises the Brotherhood, Lord Baelish. A live. We shouldn't have seen your crimes with what he will ever keep them? I think these dwarf's brother affullied with him. Robb Stark's men I remain to do this. It asked him Varys, come for. Mother. Evan: You can't even send me again. I send my son of the Favor. I'm two idea of the Faith and exactly? Do you can have princess? Bl\n",
      "\n",
      "STEP 7\n",
      "Epoch 1/1\n",
      "1277907/1277907 [==============================] - 2425s - loss: 1.2591  \n",
      "Winter is coming. Did you come from? We all return to yourself, I don't love in love for the Wall. Riverrun by masters. Could you always all want to say? That's she respect wants. Perhaps I can enjoy him. Three mother was just Hin all the lives. We ever been builty of infanter herself. A kitchens is the ground. The Wall and I should be my 99,000 men. Who did you send the survive to my horse? I have any lie to him \n",
      "\n",
      "STEP 8\n",
      "Epoch 1/1\n",
      "1277907/1277907 [==============================] - 2315s - loss: 1.2564  \n",
      "Winter is coming. He represent to leave her! Hey looked from the crafty and the Narrow Sea. A traitor. And could the Mountain. Ser Bronn how your course, dit you understand. I trust what prizate came for me? No. So you didn't know what the Kingslayer? Mother. My brother said. They've free, write will save. This is hard for their ropes, Your Grape. You. This isn't before soon. The Seven Khal establishments to look \n",
      "\n",
      "STEP 9\n",
      "Epoch 1/1\n",
      "1277907/1277907 [==============================] - 2486s - loss: 1.2540  \n",
      "Winter is coming. You are the ManyFaced God, don't. The First Men, the Unsullied this world come back and she sent you! Quite her! My father, to see Podrick! Most men go! Stranger. The only powerful zyrcella, Father owe his particularly. He's coming. Only name the Red Karstark before it asks me to be a king. And why are you doing back. Ooh we're as that she is. She's the bear silk here. According like a lady again\n",
      "\n",
      "STEP 10\n",
      "Epoch 1/1\n",
      "1277907/1277907 [==============================] - 2477s - loss: 1.2518  \n",
      "Winter is coming. I couldn't know how to supporting. Quite died good for us. No, I'm not married! Get on! He really had your wedding. No, we believe it was. There are our blood. Why not? Drunken. We're not prepared. Until his bastard boys and the truth would be imagine you don't matter. Robb. A baorified, I am. Robert don't get her through every swith. Dragons Doesn't pay their squired back to you any with your ch\n",
      "\n"
     ]
    }
   ],
   "source": [
    "for i in range(10):\n",
    "    print('STEP', i+1)\n",
    "    train()\n",
    "    print_example('Winter is coming.', 400, maxlen)\n",
    "    print()"
   ]
  },
  {
   "cell_type": "code",
   "execution_count": 20,
   "metadata": {
    "collapsed": true
   },
   "outputs": [],
   "source": [
    "model.save_weights('data/model_15.hf5')"
   ]
  }
 ],
 "metadata": {
  "anaconda-cloud": {},
  "kernelspec": {
   "display_name": "Python [default]",
   "language": "python",
   "name": "python2"
  },
  "language_info": {
   "codemirror_mode": {
    "name": "ipython",
    "version": 2
   },
   "file_extension": ".py",
   "mimetype": "text/x-python",
   "name": "python",
   "nbconvert_exporter": "python",
   "pygments_lexer": "ipython2",
   "version": "2.7.12"
  }
 },
 "nbformat": 4,
 "nbformat_minor": 2
}
