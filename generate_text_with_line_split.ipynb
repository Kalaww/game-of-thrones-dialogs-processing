{
 "cells": [
  {
   "cell_type": "code",
   "execution_count": 1,
   "metadata": {
    "collapsed": false
   },
   "outputs": [
    {
     "name": "stderr",
     "output_type": "stream",
     "text": [
      "Using Theano backend.\n",
      "Using gpu device 0: GeForce GTX 850M (CNMeM is disabled, cuDNN 5105)\n",
      "/home/ursa/lib/anaconda2/envs/cv/lib/python2.7/site-packages/theano/sandbox/cuda/__init__.py:600: UserWarning: Your cuDNN version is more recent than the one Theano officially supports. If you see any problems, try updating Theano or downgrading cuDNN to version 5.\n",
      "  warnings.warn(warn)\n"
     ]
    }
   ],
   "source": [
    "from __future__ import division, print_function\n",
    "import numpy as np\n",
    "\n",
    "from keras.models import Sequential\n",
    "from keras.layers import Embedding, Dropout, Activation\n",
    "from keras.layers import LSTM, TimeDistributed, Dense\n",
    "from keras.optimizers import Adam\n",
    "from keras.preprocessing import sequence"
   ]
  },
  {
   "cell_type": "code",
   "execution_count": 2,
   "metadata": {
    "collapsed": true
   },
   "outputs": [],
   "source": [
    "sentences = []\n",
    "fd = open('data/sentences.txt', 'r')\n",
    "for line in fd:\n",
    "    sentences.append(line[:-1])\n",
    "fd.close()"
   ]
  },
  {
   "cell_type": "code",
   "execution_count": 3,
   "metadata": {
    "collapsed": false
   },
   "outputs": [
    {
     "name": "stdout",
     "output_type": "stream",
     "text": [
      "Number of sentences: 29878\n"
     ]
    }
   ],
   "source": [
    "print('Number of sentences:', len(sentences))"
   ]
  },
  {
   "cell_type": "code",
   "execution_count": 4,
   "metadata": {
    "collapsed": false
   },
   "outputs": [
    {
     "name": "stdout",
     "output_type": "stream",
     "text": [
      "Corpus length: 1277948\n"
     ]
    }
   ],
   "source": [
    "corpus = ' '.join(sentences)\n",
    "print('Corpus length:', len(corpus))"
   ]
  },
  {
   "cell_type": "code",
   "execution_count": 5,
   "metadata": {
    "collapsed": false
   },
   "outputs": [
    {
     "name": "stdout",
     "output_type": "stream",
     "text": [
      "Total chars: 72\n",
      "  ! \" ' , . 0 1 2 3 4 5 6 7 8 9 : ; ? A B C D E F G H I J K L M N O P Q R S T U V W X Y Z _ a b c d e f g h i j k l m n o p q r s t u v w x y z\n"
     ]
    }
   ],
   "source": [
    "chars = sorted(list(set(corpus)))\n",
    "vocab_size = len(chars)\n",
    "print('Total chars:', len(chars))\n",
    "print(' '.join(chars))"
   ]
  },
  {
   "cell_type": "code",
   "execution_count": 6,
   "metadata": {
    "collapsed": false
   },
   "outputs": [],
   "source": [
    "char_indices = dict((c, i) for i,c in enumerate(chars))\n",
    "indices_char = dict((i, c) for i,c in enumerate(chars))"
   ]
  },
  {
   "cell_type": "code",
   "execution_count": 7,
   "metadata": {
    "collapsed": false
   },
   "outputs": [],
   "source": [
    "sentences_idx = []\n",
    "for sentence in sentences:\n",
    "    sentences_idx.append([char_indices[c] for c in sentence])"
   ]
  },
  {
   "cell_type": "markdown",
   "metadata": {},
   "source": [
    "# Preprocessing"
   ]
  },
  {
   "cell_type": "code",
   "execution_count": 8,
   "metadata": {
    "collapsed": true
   },
   "outputs": [],
   "source": [
    "maxlen = 100\n",
    "dataset = sequence.pad_sequences(sentences_idx, maxlen=maxlen+1, truncating='pre')"
   ]
  },
  {
   "cell_type": "code",
   "execution_count": 9,
   "metadata": {
    "collapsed": false
   },
   "outputs": [],
   "source": [
    "x = []\n",
    "y = []\n",
    "for sentence in dataset:\n",
    "    x.append(sentence[:-1])\n",
    "    y.append(sentence[1:])"
   ]
  },
  {
   "cell_type": "code",
   "execution_count": 10,
   "metadata": {
    "collapsed": false
   },
   "outputs": [
    {
     "name": "stdout",
     "output_type": "stream",
     "text": [
      "x: (29878, 100) y: (29878, 100)\n"
     ]
    }
   ],
   "source": [
    "x = np.concatenate([[np.array(i)] for i in x])\n",
    "y = np.concatenate([[np.array(i)] for i in y])\n",
    "print('x:', x.shape, 'y:', y.shape)"
   ]
  },
  {
   "cell_type": "markdown",
   "metadata": {},
   "source": [
    "# Model"
   ]
  },
  {
   "cell_type": "code",
   "execution_count": 11,
   "metadata": {
    "collapsed": false
   },
   "outputs": [],
   "source": [
    "model = Sequential()\n",
    "\n",
    "model.add(Embedding(vocab_size, 24, input_length=maxlen))\n",
    "model.add(LSTM(\n",
    "            256,\n",
    "            return_sequences=True,\n",
    "            dropout_U=0.2,\n",
    "            dropout_W=0.2,\n",
    "            consume_less='gpu'))\n",
    "model.add(Dropout(0.2))\n",
    "model.add(LSTM(\n",
    "            256,\n",
    "            return_sequences=True,\n",
    "            dropout_U=0.2,\n",
    "            dropout_W=0.2,\n",
    "            consume_less='gpu'))\n",
    "model.add(TimeDistributed(Dense(vocab_size)))\n",
    "model.add(Activation('softmax'))"
   ]
  },
  {
   "cell_type": "code",
   "execution_count": 12,
   "metadata": {
    "collapsed": true
   },
   "outputs": [],
   "source": [
    "model.compile(\n",
    "    loss='sparse_categorical_crossentropy',\n",
    "    optimizer=Adam()\n",
    ")"
   ]
  },
  {
   "cell_type": "code",
   "execution_count": 13,
   "metadata": {
    "collapsed": true
   },
   "outputs": [],
   "source": [
    "def print_example(start, n_char, maxlen):\n",
    "    for i in range(n_char):\n",
    "        start_idx = [char_indices[c] for c in start]\n",
    "        z = sequence.pad_sequences([start_idx], maxlen=maxlen, truncating='pre')\n",
    "        preds = model.predict(z, verbose=0)[0][-1]\n",
    "        next_char = np.random.choice(chars, p=preds)\n",
    "        start = start + next_char\n",
    "    print(start)"
   ]
  },
  {
   "cell_type": "code",
   "execution_count": 14,
   "metadata": {
    "collapsed": true
   },
   "outputs": [],
   "source": [
    "def train():\n",
    "    model.fit(\n",
    "        x,\n",
    "        np.expand_dims(y, -1),\n",
    "        batch_size=64,\n",
    "        nb_epoch=1\n",
    "    )"
   ]
  },
  {
   "cell_type": "code",
   "execution_count": 15,
   "metadata": {
    "collapsed": false
   },
   "outputs": [
    {
     "name": "stdout",
     "output_type": "stream",
     "text": [
      "STEP 1\n",
      "Epoch 1/1\n",
      "29878/29878 [==============================] - 102s - loss: 1.3220   \n",
      "Winter is coming.e..k In teo oa chi fha wlrt. iio yhiae Ler dlca Ya tpaao di darwfc., yl cow?dmr.rers.. lLa Ronann onklf ;orto imem myr aratdi,t9ni Ied ionr thenr Dadletth?dy dome Nnt Ins wotde fnstctgn karts toua,gdn hannedrss.d.s. hed.me.t wtspe. Murta ilt?nL ther woms So Maoed,.d iode. heys .erfr fomt kvdair the too ei. irt tourr lat cav the Nu i thind aasls.,h saasrssvys roe to kasnhe tsr fritd. kot senthal.s \n",
      "\n",
      "STEP 2\n",
      "Epoch 1/1\n",
      "29878/29878 [==============================] - 108s - loss: 1.0104   \n",
      "Winter is coming...t.u...m.....s.sa....s.unn.rot.eas. iped.t...e......te.n..ett...t... olrl pors irl fatc fwr Hevt Boddef she Rey.t orefg laprey fisove he olded ml, moud and me annne whet's ona. lutcuret mesf wnel Lurt So whanyand loil. the de as los Srueingr to mer gwig whe ghe wtan alloddes. ond hrm Tirl'sitherd shigl I'm taurd the l'vess cteigg to mamese he fangeresh fo' toom besgir hy toleir? ti fel chey walle\n",
      "\n",
      "STEP 3\n",
      "Epoch 1/1\n",
      "29878/29878 [==============================] - 136s - loss: 0.9104   \n",
      "Winter is coming.p... hya.k..t.enteong.or...s.s..n.... you.re.ne......s.ore rarding..is an weld.s Tore onowe the Swold sag vaw you ciws. lidneus? I hac of to me ope and Tor mense I Dute'rn alver the Fencavave he serad on os betheringim on stond it mupd0ing bey. is hrade he's? a jenank? deaz now shor? Sot to gom wonk Wath s boed at wraure bors, be a wtarr the digedn.s an the who tak to to wivmer ot weors latk Cyces\n",
      "\n",
      "STEP 4\n",
      "Epoch 1/1\n",
      "29878/29878 [==============================] - 140s - loss: 0.8468   \n",
      "Winter is coming..s ios.n.......s..e.e.yi.d......s ag.uct.s the drity you bicthing?b.s.t..g beey.nr in abountiend pine oraar their did a mare and they'r, debssaoternalmer, I'll you, abe thot of lane ataess regont \"one cagther..teos eycarmarlet i sruthers, Bnose didbe.o deane lernouds acack mick for frul un them oud so h detus a gor to ter toor to Sarrnite, ,ratring that beat is aresel, The Wigt tropesunysqe buture\n",
      "\n",
      "STEP 5\n",
      "Epoch 1/1\n",
      "29878/29878 [==============================] - 142s - loss: 0.7985   \n",
      "Winter is coming.s..r.e.d.l..ge.t....s.n..is..s....t..e danyN pry..dfs on them..g your Fooghtily hernelae every hanestentfre stayten to wowedbeyh oath ascallen? Herer? Saeve my pinken you and then his will acciose.n give you repy lacht're to mentle? Your bat they? Nhope and of that's has freand deag is Cight scuptelre the had tha seegd, it me whound tath Not heren,.'t 1 holl.igh. he orrups of I pues a leach.ute nt\n",
      "\n"
     ]
    }
   ],
   "source": [
    "for i in range(5):\n",
    "    print('STEP', i+1)\n",
    "    train()\n",
    "    print_example('Winter is coming.', 400, maxlen)\n",
    "    print()"
   ]
  },
  {
   "cell_type": "code",
   "execution_count": 16,
   "metadata": {
    "collapsed": true
   },
   "outputs": [],
   "source": [
    "model.save_weights('data/model_by_line_5.hf5')"
   ]
  },
  {
   "cell_type": "code",
   "execution_count": 17,
   "metadata": {
    "collapsed": false
   },
   "outputs": [
    {
     "name": "stdout",
     "output_type": "stream",
     "text": [
      "STEP 1\n",
      "Epoch 1/1\n",
      "29878/29878 [==============================] - 106s - loss: 0.7613   \n",
      "Winter is coming..d.ly...ce.ted..t....t..d.es all.t.t.s winds...t..t.....s.m.ld.m.s..n..t.s.. her froth.l? That it a brother she. napthings mrouth the gasters arout anr trunseds.n every new and Minks my luster alow? I well lades.s fre recpye wutch and do you seed morern my darat you sow should daan asbome to be say.s brother the sreapen,d Deands and bemoars worring.se you and Gessad the dactle he starle syeet colp\n",
      "\n",
      "STEP 2\n",
      "Epoch 1/1\n",
      "29878/29878 [==============================] - 111s - loss: 0.7319   \n",
      "Winter is coming.s..t..ng.ce.s.ne..s.is.s.tle.s.n.s.s.se.we.rles.talyarfen.ut..t.n.als..ked.s need Keeppeny of the goes.ngs Blage then incelie.n of proteste to mut un wutch with Vake Fawaun the hanbcess the gows.n chister a couf me my sof Laesnit to got an the peace them before ut walgers with come we't, a spreid burt us ver about you? I'll not they dotary of the clease muy in no one of the lieds, the Ereesan Told\n",
      "\n",
      "STEP 3\n",
      "Epoch 1/1\n",
      "29878/29878 [==============================] - 116s - loss: 0.7085   \n",
      "Winter is coming..t.s.s.nk..ts.n.ug.es.od..y suave.s.re.s. destagy.ne shore.n.t.stane.n.s lastess.stand a the kings of where.ut got comder och only want you the father.s and stark.s dlanoce of the more sime dead to the Broth make a morly cleaked lif.lc all ofter of the Mlagos ride. and lack worse.ci murnher.s to a will be a breath their.dries.n? I was befudes comes, hot never mont and once shouldo'gc him.s the fir\n",
      "\n",
      "STEP 4\n",
      "Epoch 1/1\n",
      "29878/29878 [==============================] - 119s - loss: 0.6893   \n",
      "Winter is coming..s.s.y...t.ll.m..s..s.s..ut.n..t.s.ned.ll.y.ne.s.me.t.ine's.s.n..ls.n..e.ds at the Geep of the mrawn, I'll be be the father him.s know that my dran them at? He's not We came that Lo I berhat.l vim actian you.re drace in a man to be see me.t anyor.m compleras into! Well tood You this way done comon before.s times if you say? We'll us shouldn't him.alles, and stor here entair.s king, I die.d the wor\n",
      "\n",
      "STEP 5\n",
      "Epoch 1/1\n",
      "29878/29878 [==============================] - 126s - loss: 0.6736   \n",
      "Winter is coming.r.e.se they.re.s.d.r...s.s.ben.gay.n.ghened.me.s.n..g..gy.n..g.ry.n.ce.ut.l diver maccecy here furth and bl!\" Some baster augince to enemer for consapter beading if yes, wo get in tuming.igg.s.g oherssifus stard it's our a she have track be out fall a sfrrage.t it it plan your froming handom! Frandinged in yourses.ng with you tell u furiser.ce, monilled it let peraomt of my pregening rikerry.n.min\n",
      "\n",
      "STEP 6\n",
      "Epoch 1/1\n",
      "29878/29878 [==============================] - 150s - loss: 0.6604   \n",
      "Winter is coming.s.n.s..ed..ty..e.s.s.ter.lly..t.l.t.r.un.n.s.nes.n.s.nerle.tion.s.s.s.ugen.on.ned.s and my stanning, my sing, a toonger her ssell nevers to bed listens.n, the booked is unting say and the wildrain.t we would them to runger Dord the Lord Bolting atthing us.re lieten with someonerout no me the world.? You're a graven.t! I pat dsew, kingdom throse dangerots he'll you, liver to the trast.n.tar fry onl\n",
      "\n",
      "STEP 7\n",
      "Epoch 1/1\n",
      "29878/29878 [==============================] - 149s - loss: 0.6499   \n",
      "Winter is coming.sa.tion.n.s.n.l.s..es.s..med.s..t..d.se.ldniald.ce.t..d.on..s.me.se.ty.ne.n.ast a capp for my father, I pebarase your bofor? Host, you can for you.r injugesTf and the mother back.esonalt flom? My lords atst my last stark for ungeww.od the chaones.n.t.ng time, Your slughted trust? Yes, I don't not do two of cur..se I haves about you we fight the times to fet sing.nts.uld, he juning pay.n in l Irond\n",
      "\n",
      "STEP 8\n",
      "Epoch 1/1\n",
      "29878/29878 [==============================] - 151s - loss: 0.6407   \n",
      "Winter is coming.s..l.te.mal..s.n.in.s..l.r..s.n.ss.s.ng worsRefulling.ld.rs.n.s on..gh.e.s.n, plensunce the North him Swationed.s of your nothing our prace.stfress a good crow.rne..s of acainstance.ck.ny and hall poing. to make it pard of if stark the squeen.s when I don't have here Riding.stant to it to counts open me..t lick, my lady. to command us childs a.d bringuse the promar before 30 you're a harned to des\n",
      "\n",
      "STEP 9\n",
      "Epoch 1/1\n",
      "29878/29878 [==============================] - 125s - loss: 0.6325   \n",
      "Winter is coming.es.ng.es.ution you.gerfely..d.s.n.s..t..l..t.s.ne..s..g.ot..n.d.s.s.re..t in.uting? That's we says of the thrones Heart do my brother about the King and you need at years is purtt into the Seven abmy won'll backing the Womands of his honor.g.s Of Worth them to kingdombed of the forth.s in the faile.se of enough.m.ut and the realing Man.rs what its a greats well fleet brother.s.me.t his wall, Vraye\n",
      "\n",
      "STEP 10\n",
      "Epoch 1/1\n",
      "29878/29878 [==============================] - 122s - loss: 0.6260   \n",
      "Winter is coming.es.n.e.d.n.s.s..t..t..n.s.nes..t..m.s...s.n..g.s...ce.ty.t.s..t..t..t.ny.ne. torth of Why the boy in Lannister and was heade? Accummer sibplinks Naither head and I know a famher.s there.s steal to be the ways long.r the city of the Nan, lord.rs of conside perhaps go on no mother at happoch of fighting much.med and from the same.ps anything their lucky we get a bones are of the boy.re.t in the houb\n",
      "\n",
      "STEP 11\n",
      "Epoch 1/1\n",
      "29878/29878 [==============================] - 122s - loss: 0.6195   \n",
      "Winter is coming.nt.n.al.w..t.s.n.l.r.s.ne.t.me.t.s.n.s.n.tens.ns..r.s..t.lo.t.s.s.n.t.s.n.l..t.s.ns of Wurd, but I have hundries a rivery I? Dragons Respeciable at promise oprarfarers a life inffreyn and prikgen bailmiored. for your fairble.t. berrised to uny to fear tires a trout before what don't think we like your shockain a girst.ry.n eddarr and now. of your life.ged our renguce befor bone.n.s and see your sw\n",
      "\n",
      "STEP 12\n",
      "Epoch 1/1\n",
      "29878/29878 [==============================] - 127s - loss: 0.6140   \n",
      "Winter is coming..t.r...s.r.l..a...s..g.ed.s..t.b.ry.....t.n..n..t..n....t...t..d.l..ts..t.od.lling to red what do we happy in the sends what we can day Jon.le in this will remember far.ing.l.s, l want for us.ld King's Lannister.s westardioul by his people.n for King's partiful and dolk you are you do doesn't because so very brimuling you couldn't say a right.r to go be.nks bit Bleasure are was a man at him.bles m\n",
      "\n",
      "STEP 13\n",
      "Epoch 1/1\n",
      "29878/29878 [==============================] - 122s - loss: 0.6093   \n",
      "Winter is coming.l.s.n..t.la.s.n.s..t..t.ble.t..t.l.s.n.s.n.me.n.s.s.ne.n.l..th.ly.nner.s.'t.rly. Lady Of Csacced snime, and here! You can ran to be anyTherrenor is.re.t that, her agaons.r from Everyone.s.n.ton for them..ss Stret for your father.s? Now, I don't need to tell it in his wasn'ts and out your sixtannaar.t me.nt.re for a grital.s dragons has it.s the meancil know with Reals, Robbbb.seish.ut better your \n",
      "\n",
      "STEP 14\n",
      "Epoch 1/1\n",
      "29878/29878 [==============================] - 123s - loss: 0.6048   \n",
      "Winter is coming.le.t..t.s..t.red..t.ne.t.l.s.n.me.t.ne.s.n..s.me.t.rd.n.s...s..r..ts..r.s.n.lly.ng inaonst words.me for them two the is realny if she's a fews? Whats here? Food that do I haven't gire.t.ned me. all to re, everyone in their done.n? Wh! This is no.n trief place to mynne of jetter wedding of for boy, Way the Muttern just.ver. as we're going.d? Not if Turgefing with that coming.ld.s of my father rathe\n",
      "\n",
      "STEP 15\n",
      "Epoch 1/1\n",
      "29878/29878 [==============================] - 124s - loss: 0.6012   \n",
      "Winter is coming.om.s..t..t.s.r.w.l..n..g.es..sh.ly..d.s not...s..g.ot..n.l..t.s.n.me.t...s.ne..s. l wholey, could ayal someone way to war. anyone to me alone horry thought of babor..s. Lannister.s is not of us.t.nes want the norths.ns lies.ne in the partle a lot me fighting the walk? Stand in the plans? No.ld a crime because for She's a gods faith.uts. is as if Tylecupless. it.ned to asked for you. steep a khalst\n",
      "\n",
      "STEP 16\n",
      "Epoch 1/1\n",
      "29878/29878 [==============================] - 127s - loss: 0.5973   \n",
      "Winter is coming.s..s....s..s.m.ry...s.s.ne..s.s.l.ot.n from.r.es.s.n.s.ns.n.ns.ne of you.re.ches.mes to falling the pays Starking their choes in the cap.stand? Perhaps to take that I better to make a know..n..n for will now. Mansel.us.m son was alr right as my councrss.rmon this of the bastards to plan.ed the city. North means.n Kiggs.me.t about you.ght for like it.s of your priesty, but.ne day.nst their rather s\n",
      "\n",
      "STEP 17\n",
      "Epoch 1/1\n",
      "29878/29878 [==============================] - 123s - loss: 0.5934   \n",
      "Winter is coming.s.s.me.s.n.ther.s. wife..s.ne..s.n.s.r.r.al.or.s.n.s.n..s..t.on.n..n.s.n.t.s? No his forther man are something.st? Dragon and he will named a gyrell what they can't do.n there.g eut.uce.d? A way is life could.'t have quintly.ne..ged knisf to please to see Touch the queen.me easter but no sphells.n.r if if he would be a moras, in the Arse and it's trial the Said trusts every lords.mmaess without ch\n",
      "\n",
      "STEP 18\n",
      "Epoch 1/1\n",
      "29878/29878 [==============================] - 117s - loss: 0.5907   \n",
      "Winter is coming.r.s.s.l..t.ing it.ney..t.il.st.ry.ne..s.s..t.ds.mes.s.s.re.s.n.s at Wait.rles.ng.tionst them for could.s face.t a grapped with your son Snow.ns.ne.s.n.t for me, Not.r speakicked me.t can see you in his, isn't were.'t contive.ly ramies.ut.i.n.ble dead or see the king, your quilt.id's nollow.lf.w attack it.s.go.ns.ned to that maesters everything.s.nation.lyn Targaryen.s jlack.ing.ll back.s in the co\n",
      "\n",
      "STEP 19\n",
      "Epoch 1/1\n",
      "29878/29878 [==============================] - 116s - loss: 0.5876   \n",
      "Winter is coming.s.s.s.me.t..t.r.m.r.s..s.n.me.s..s..n.mes me..t.re.t.s.me.t.n.s.n.l.s.s..t.r.n.s. to the cround, Let's not a sweet.lf.r.s.n's boy.nd.t.r's my honses.nh.w.r than he'd leave me a big for the Words.n and lord.ng without.r.ath.s with Queen.ns.n.? Only the Highrered boy.nd.l.s in now.s, stall.ry,.r all of Morcy people.nt.ned.l, his against choose.t so she was brothers.ned your night? Well, that do the \n",
      "\n",
      "STEP 20\n",
      "Epoch 1/1\n",
      "29878/29878 [==============================] - 120s - loss: 0.5853   \n",
      "Winter is coming.a.s.ge.t.r..m.ud.s.n.tell..d.s ago.n.s..t.n.tion.s..s.n.me.t.as.nt..gh.s.n.s.ns..d, all of us, of hile of her pucks.me wildlings.ne.t.mes.me.t back.n? That only men.r..t, What didn't be life for no more hisspotent.ll, and all at it.n dadners..th fo if.l to leave your king.es? Thank your captain.n like 100o. to saying.rs. to be a black in Castle Blatrave.t in hingle.s grandson tonight us with.ut th\n",
      "\n",
      "STEP 21\n",
      "Epoch 1/1\n",
      "29878/29878 [==============================] - 121s - loss: 0.5832   \n",
      "Winter is coming.tion.s.nother.s.me.t.ld.s.nes..g.liy.n.s.ns.s.ns.n.s.re..t.s..t.s.n.s in.ws to tell him for a partain. again.sE that's the walker won't happy! Which sor.s.n in the paid.ce with the realm.p me.sa life.ty.n.re.t.n or dragons out.lo.t! No! Go so one of them is the way.nds.me is Way before only needing.s.nt.mny to the Taurts over things.ught.s? No one.ce.se his Woll.w.r.s.m boing to way You into.rinh.\n",
      "\n",
      "STEP 22\n",
      "Epoch 1/1\n",
      "29878/29878 [==============================] - 128s - loss: 0.5805   \n",
      "Winter is coming.ns.n.ge.t.s.s.ne..s.me.t.s.n.s.s.un.s.s.n.s.me.s.ns..s..n.s.n.s.n.s.r.uss.n.s..ces man.sh.r..ds call.rs.n.ed the slower.s by many names.nds.me.ce.t it for you.gh.ld for chamber with your family are father.t.n.nce.s.n.s..ss. Fnows.ngle boy.mal.w.r.ught.r away day, the world, but yet.re.s.ng.ss the Iron Houses.ne.s.r.w of the fall.satark.s..ve.t at His regardly.n.table.t.s.n.me is daughter. and.'t g\n",
      "\n",
      "STEP 23\n",
      "Epoch 1/1\n",
      "29878/29878 [==============================] - 127s - loss: 0.5785   \n",
      "Winter is coming.lor.s.n.s.s.n.s.re.t.le.t.ne.s.me that.nes..se.d.s.nal..s..s...s..s.s.ly.t.ll.w.s the Lord well be.tus.n., but now I doubt try.bb.rn to carry.be his queen as my lady? No, no.l.gi.n.ld.s.n.s and the Lannisters.n.ming past King's Landing.s.ble.ts of my mother.cs.rd.r belishal..r.st of my yours.rp.ne, but no eaper Right.nate.t in his grandfest.ng.ut.rt.right.n and door over his free gonna.ds.ns.n.tio\n",
      "\n",
      "STEP 24\n",
      "Epoch 1/1\n",
      "29878/29878 [==============================] - 122s - loss: 0.5765   \n",
      "Winter is coming.sible.d.s.s.n.s..s.n.a.t.ld.n.s...s..us..n.ns..s..n...s..s.n..s.s..s.m.ots.n.s.n For the Commander.., any from when you taken them can come to me? He looking about the crow.r.s.n prick.sion, but what when people.ns.best for you.g trial.ws of the capital.k.l..lly not son down fall, she can see one..th at We haven.t home.n.t.r, now need a slavely., please, not from Rid.n sons are riverrun.r to the K\n",
      "\n",
      "STEP 25\n",
      "Epoch 1/1\n",
      "29878/29878 [==============================] - 124s - loss: 0.5745   \n",
      "Winter is coming.nes.me.s..e.s.ne.s..ne.ce.s.me.s.n.s.m.ry.n.id.s.n.ad.l..s.ed.l..s.s..t.n.me as easter is a moment.ne.t? Not no of good.s huntry.n again.ots in a battle.t.a\" here? No enough is.one my small.y.n to his family stending and bring.on.s againstoged.s as the Cest her prisoned.s.n.r.ed to die. to to just.rt you.l keep.red my pride of the rest into that bastard, no just tone.s.me.t.r seat.r.us three Kingd\n",
      "\n",
      "STEP 26\n",
      "Epoch 1/1\n",
      "29878/29878 [==============================] - 128s - loss: 0.5726   \n",
      "Winter is coming.ed.ld.l.n.s.s.n.s.ns.mal..t.re.t.r.w.n.s..s.n.r.t.l.s.n.ck.n.s..t.r.s.n.s..s..ts to your sin.ers? Reek at Castle? With a begon captration.l..s.n., and the Iron Bloody of your house.sion.ed.mb.ss.ber's day.n.s.n.r.s in Death.ut.ing with him to be the Free for the Wall.wes.., it smippers.n.tuing peace all still.rren when he know of King's Land soat.r was your.k and lambkman..ns traiting.ing it.ness.\n",
      "\n",
      "STEP 27\n",
      "Epoch 1/1\n",
      "29878/29878 [==============================] - 126s - loss: 0.5706   \n",
      "Winter is coming.ly.n.lm.t.r.s..s.s.ls.me.s.me.ting.age.ly..s.n.s.n.l.s.ns.s..t.n.me.t.s.n.s.n.l.st gone and debt it.s.lly. Mome castle noust! Baratheon.me your here and were outh in the Wall Gwarf and I am.ut at His lady. girls.ns.mand I protect how it for you.re? Come is what you consided inside the way a faith.ut like fit time and after that killing me? ool.st my rangers. Stark.s for him.s his red.ns? Yes, plea\n",
      "\n",
      "STEP 28\n",
      "Epoch 1/1\n",
      "29878/29878 [==============================] - 130s - loss: 0.5692   \n",
      "Winter is coming.ng.on.r.us.ned here..t.n.s.ns.e.s..m.s..n.s.n.me.s.me.s.n.s..n.s.n..s.me.ts.n.shipped kind with him to out that there is a gould.w and Wainh me.nhmed armies of a spear a for hom! We've comes.me in comaerat with me.sage.t men.tion to her where Why? You can't teary the samsa Maege.th of the shield.s.rs.ns of woman Neds..gh to me.d.ys would feel them.e I.ll burn the family is our powrous.ned noon.me.\n",
      "\n",
      "STEP 29\n",
      "Epoch 1/1\n",
      "29878/29878 [==============================] - 131s - loss: 0.5672   \n",
      "Winter is coming..n.s.n.s..l..s..s..t.s.s.s.l..ts.s.nal..s.n.s.r.ut.oble.t.l..s...s...s..se.s.n.re, why you know I can have missed them.as.ne.s? What? I willing their Name.t of the ending in that doesn't have the Targaryen.s are of the Truee.t, my way to the lords of Deabt.rt.re the Family.ns.n Moum.wer, we'll speak for Joffrey are.ts.n.re.t betrayed cecoming the Same against Light.b the houses, I seemly it mine w\n",
      "\n",
      "STEP 30\n",
      "Epoch 1/1\n",
      "29878/29878 [==============================] - 122s - loss: 0.5664   \n",
      "Winter is coming.me.t.r..s..s.n.s..s.n.s.me.t.s.r.tion.s..t.ll.t.s.s.lly..d.s.l.ge.t.ld.ants.me.g father harden? Behest impaose it's away.l better.s her tyrio. problems.n.le.t choosing.s.n.s.n them.s from the Seven Keep who won't do.bt.re that.s here.s did another in me is.ns of the world.st by pigce back.s? Eshasil..l..ce.s..g us.ron became a noman brothers.mp in do is food.ess.ns.me again.sh you? op.ve.t why you\n",
      "\n",
      "STEP 31\n",
      "Epoch 1/1\n",
      "29878/29878 [==============================] - 123s - loss: 0.5649   \n",
      "Winter is coming.r.ats.me.se.s...s.ns.s.me.t.ly.s..n.es.me.t.bitess.me.t.res.r..n.s.n..n.s.n.tion were was ruzing, it.s.me.t, the sword noodmice.t and as they fell.w.ng..t her house ago the women weuthern.ice in the Wall.w.r.s.ther head.n? It's such their hands and we addaribly before his daughty without as the Detty be.ts.ned in iron.nce.s at years.mpon men.re man.sh I saw the knights he told hair.s, took out of \n",
      "\n",
      "STEP 32\n",
      "Epoch 1/1\n",
      "29878/29878 [==============================] - 124s - loss: 0.5636   \n",
      "Winter is coming.r.st.als..d.st..d.r.s.ce.s.ly..ts.ce.t.il.rs.nds.ut.n.t.lf.l..r.w.rs.n.n.tions.ngs through at the Rock.n.s weaping.l man.c.me.t.lions.n.s arounds bedands of King Rambers.n.! Hold.s.n! He's for me..t all.st.mber.ted, lome it? No good village.t attle sword.y we let us.w.ly. ragoess.ng.at.l Gnif.l..t.ars. too.gh.ot.n they're going to get, my brother.ts., something.ng my sword.ties.lite as we fighten \n",
      "\n",
      "STEP 33\n",
      "Epoch 1/1\n",
      "29878/29878 [==============================] - 123s - loss: 0.5626   \n",
      "Winter is coming.ge.t.s...s.s.l..e.t.n.s..g..s.n.is.nes.s.s.l..ts..ge.t.ned.s.n.tw.me.t.ck.ne.s.me our was you have a drops.ut choose you knew me.n.s's from bearelly as you should make a father.lide.t with me.t.ge.t.r. men.re a mine beautiful, you have.'t murder her.s.m.r? Go our all of one of your health? No.ld.me.s in a father.'s Walks.lf.re.t.re.t.n..s like.ce.t.s, wome drink.ned again.st years.ll.w before the \n",
      "\n",
      "STEP 34\n",
      "Epoch 1/1\n",
      "29878/29878 [==============================] - 124s - loss: 0.5609   \n",
      "Winter is coming.ne.t.r..s.s.s.n.t.r..s..t.s.s.rd.n.me.t.r.c.m.s..t.s.n.l..s..s.m.r..sh.s in my brother.s..n.ned for myself? My most out.s in it? Formors.s were answer awain.s, after mek for yhan She distenced.t you seek to know.o.s of the dast.re.ts.n.s.n.l.r.s.n.mal..s.n? Some horses.me.ts at her? We are forget.le.t.ne.s, I sent for you. qllation.lian coak.s.l and you.ll.w.d at them whore.se yet he was.d.ble.d.s\n",
      "\n",
      "STEP 35\n",
      "Epoch 1/1\n",
      "29878/29878 [==============================] - 126s - loss: 0.5591   \n",
      "Winter is coming.mbless.n.s.me.s.n.s down.l..ts.me it.s.lf.s.ns.n.se.s.r..s..s.n..t.r.s.n.s.r.! No.d.l..ts.lless of country.n.s.re of the King's Landing.d.w as the Stark, Brhostansain.us in the Grace.s will fuck to Horse Stark and aff.rd me.t feets, my free.t insiave to protect the voliants of me of Brother.s.n..s from your way.r castle at tit.r.w time.t these new, Forwities.lf.sing.lf.r.l.z.te.t night.re's priden\n",
      "\n",
      "STEP 36\n",
      "Epoch 1/1\n",
      "29878/29878 [==============================] - 122s - loss: 0.5582   \n",
      "Winter is coming.t.r..n..s.s..n.s.ne.s..k.s.be.t.r.s..ks.me.d.r.s..m.l..ts.n.s.n.l..t.smem.y? Father, they always give you.re in the supremi of ship with me killed alone..st of the pretty Queen.me.s in.re be certains.me evited.lly rifht arounds.n and dety. Men with Goys before you are too with Out understand the prief And she's accoons inside, it's a had wouldn't speak..se you loves around not a man's more Her Tha\n",
      "\n",
      "STEP 37\n",
      "Epoch 1/1\n",
      "29878/29878 [==============================] - 123s - loss: 0.5576   \n",
      "Winter is coming.e.s.n.s.n.d.s.s.me.s..n..s.me.tes.ne.s.s.n.s.n.s.r..ch.ly..s..g.r..s.ned.s.r.ut man and ladies right in his brother's boys.gul if send your name.ds.ns.n? My lord.ists battle bloody.n.tion.me here.s? I was nothing to advace.ce.t.es.tion.r.cifion her a, the sitnay are about that from for over them.essed to slaver. for we've glast.pies.r no lives.n something.rd wildlings.nging? Twick.ns? You're not y\n",
      "\n",
      "STEP 38\n",
      "Epoch 1/1\n",
      "29878/29878 [==============================] - 125s - loss: 0.5569   \n",
      "Winter is coming.s.n..gh.ld.n.s.ble.ts.n.ll.w.r..s..s.n.r.es.me.s.n.tal..t.n.ry...s.n.l..t.es.mb.rn.ck.ned and squires.n and he had them..t of them.e with.ut doing.nt.ple have.s.na.t.ess.n.r.s.me in the he can't say it.le and heart.r I better for them.ess. a fall and see. at leave.t skning.s.n.ard.r pop.s in his brother.s.n the sers.lf? The north.ly Skwit.ris, but stop of glory of sometime.s.ns.se on tyo.. could h\n",
      "\n",
      "STEP 39\n",
      "Epoch 1/1\n",
      "29878/29878 [==============================] - 134s - loss: 0.5555   \n",
      "Winter is coming.mbers.n men.sh.le.ting.l..t.s.l.oves.n.s.ns..s.ne..s.n.s.s..g..n.s.bles.n.s.n.tion.re.t.l.ry. chosen.s I don't know..ght.s.r..s..d.l..l..d.s.lvop.l.r more back.s..s.n.te for the second those sorth.le.d.s.n.sh of them.e.d.t.s.ns.'t.rious.l..k.speceates.ak.s commands.lled money.s.ll.we in my clothes.s.st.ne run.ing to close.t and there's a true past here.n.s.ne heir life.tly.n.tions.n.med one had gu\n",
      "\n",
      "STEP 40\n",
      "Epoch 1/1\n",
      "29878/29878 [==============================] - 135s - loss: 0.5546   \n",
      "Winter is coming.ng.s.g.l.t.e.s..n.s..s...s.ller.w.r..s.n.s.s.me.t.s.ns.me.d.l..s.n.nal.w baby....s., some king.sf.r.s captain..st.rbjuy three bloody to go them.r.d begon.tally to be something.lt in Not still humiliate to fourn, I've got.s.ced my greatest again.ble.t and tell march.ate.ned.s nailed it.st.ne.t for the death protecting their small.wiful lady in your people could.ded at a truth.sion.r.r.ws lately. St\n",
      "\n",
      "STEP 41\n",
      "Epoch 1/1\n",
      "29878/29878 [==============================] - 132s - loss: 0.5539   \n",
      "Winter is coming.n..g.ot.n.s.n.s.me.t.l..s.s.ns..t.ess.ns.sders.ns.me.se.t.re.t.s.n.ly.n..gh.ly. Stones are back.ns dragons? I'm goday.n.? Well, no! Fuck moon.mal, well.'t.in for those once.se.nd him.ne.me to me you to be on.ughting thic the Lord of prion.r.s.cate.us better.t No.ld.r.u.t for him.st.ny.ne.r.w, little love all the Night's Watch.le.n.r for the mother? Ah? No.l.mber.ting her on this life then.t.ble.mi\n",
      "\n",
      "STEP 42\n",
      "Epoch 1/1\n",
      "29878/29878 [==============================] - 131s - loss: 0.5526   \n",
      "Winter is coming.e.t.ge.t.rs..s.lf.ly.n.s.rk.ut.s.n.s..gh.m.od.s.r..s..s.r.l..s.m.rs.n.s..s... yours.lth.ut souther this.n.r..ation.n.ti king.s.re.r.s.n.ming them swill be.d sometoon.d.t.rn, Battle.t cobple? Have mirdere. plan.ed.l by that.res to be prisoner.s.ming.lor..s..n? Bran.neog..t.n's truitor.ms.n.thing to de.p.l a face.r.us.ry.n and a boy.n.s.ble.t, they have a nhips.s.n for you.r.ming the bloody Ss.w.l.r\n",
      "\n",
      "STEP 43\n",
      "Epoch 1/1\n",
      "29878/29878 [==============================] - 127s - loss: 0.5521   \n",
      "Winter is coming.ces.ns..s.n.s.nes.s.l.s.ly.n.s..s..t.s.cles.ll.w.s.n.s.ns.s.ne.t.r.s.lves? You see his name.d.l Queen of long, all.s.n.us? Not.s.lly.! No.ld not far to you.re not. the king? That's Dragons.n.na.te ever with us.ck.ll ip.n.s.r their eyes.n.ty. money.ther belongs.ned days are going as we're see his traiton Great.e.ce.s and uctract.ry. killed somth.n.t in Kingdoms.lmoat.l.ngle.s.n.tes, a fool who will\n",
      "\n",
      "STEP 44\n",
      "Epoch 1/1\n",
      "29878/29878 [==============================] - 124s - loss: 0.5510   \n",
      "Winter is coming.s.n.s.me.t.l..s.n..s..n.s..gh.ld.s..s.s.ns.n.s.ld.s.ts.ps.s.nated.s.s.de.s.n.re.t? Gut in a bally6d children and precised to the day he comes and the red as good lies on one oather's petters best his blackwater, you even tave yourself and days! These Mormont.ld ridicults are something to the flieiners drisken with the Northern part now.s at Canse Baratheon Didn't see you to more able.s.nal one own\n",
      "\n",
      "STEP 45\n",
      "Epoch 1/1\n",
      "29878/29878 [==============================] - 122s - loss: 0.5506   \n",
      "Winter is coming.mants.ned.s.n.s.lt.red.ble.t.nes.me.t.ps.me.t.r.s.nders.n.r..s.ns.s.n.s.n.llaws for a King's Landing..g.a.t.n.me.t.r Whisperage ass a Dragons.n child.s.n.re.t.ne.ch.ly...ld.n.r to requires by the summer of meeti.n.r.s.me have fucks yours.me endailis! Find of us.rple calls.re.t? All day.e...s was a knight.mion.ugh.l..ge different.ll..t.l.w..n of myself things have.'t to find it.smer.t? No.ld.s. man\n",
      "\n",
      "STEP 46\n",
      "Epoch 1/1\n",
      "29878/29878 [==============================] - 125s - loss: 0.5493   \n",
      "Winter is coming.l.ting.able.ts.ll.tion.s..w.r..t.n.s.n.ch.e.se.s.me.n..s..s..gh.irs.me.n.s.ns.ne than they look.l..med at my father.s.n.s.n.tion would over here.t to we rapel it from your torn.bles. From it.lia.ce.s, not.ess.s.me a lot.an.s.r Marking here.t libes me.ns.guint that harf.r.s.r to meet the slavers.n.ty.t.ce.f.rtieer.ck at me for 800 lad.cil I'm the war.w had a few small, our fathe children.r king's l\n",
      "\n",
      "STEP 47\n",
      "Epoch 1/1\n",
      "29878/29878 [==============================] - 135s - loss: 0.5490   \n",
      "Winter is coming.nes..s...s.ns.s..t..ge.t..s...s...s..s..th.m.id.m.te.s..t.n.s.d.r..gience.s.r, the countrials mean.t to leave him.a.ts.n.s.ut two queen's dawn.n.less.n.l.cky. man.ly.n.theWost.ne baby...t girls.d see you.re dead.nt fal been a liar.ut.r for you. call of you.re alone.s.ns.n.me.t on the mad Khaleesi.g.s.d's blood, over.w.n! Apologies.me that way.l to him.r..d.w.re my sister? Talking.! No.ld hear, he'\n",
      "\n",
      "STEP 48\n",
      "Epoch 1/1\n",
      "29878/29878 [==============================] - 130s - loss: 0.5483   \n",
      "Winter is coming.rs.n.s.me.t.es.me.t.el.s.ns.n.s.n..n.s..m.r..s.s.n.s.s.c.me.s.n.s.lans.ned to Crun him.r father wants.me in the pate.os.n.na.d little coapled.s.n.? You're done thinks we de.ling.n's into in the coftlend.ms and here.'t to Help.se.s my wine.ce.t? No.l of nightough.ls. to the great news.llied.t.l at First the eyes.'t be over goose.s.lf the world.'t.rs.me them, so maybe.t something.red through the lik\n",
      "\n",
      "STEP 49\n",
      "Epoch 1/1\n",
      "29878/29878 [==============================] - 130s - loss: 0.5474   \n",
      "Winter is coming.mber.s.ned.ch.red.mment.rs.ns.n.s.lly.n.ld.s.s.ly.n.tered.ble.t..n.rs.me.n.re the Lord Belish of the whole.se are Meereen.ping himself.l..d hand.s stop like it.les.n? As I'm arried the Wall.ws childran? There's nothing.s.r with easy.n, their house king.s.rys with your brother.us! No.l I'm afraid this time.rs.mal.us things.me at the first Men is not daughter.s.s.lf.red.tion here princess.be.t nears\n",
      "\n",
      "STEP 50\n",
      "Epoch 1/1\n",
      "29878/29878 [==============================] - 134s - loss: 0.5466   \n",
      "Winter is coming.n.r.us.n.ce.s.n.s.l.te.t.s.n.s.l.ss.n.s.me.t.rs.ns.n.s.d.ce.t.ing.red.w.n.re safely. Stark with Sansa Stark as you only think of son.r.s.ring to them at them knight.ble because you know. for twes beatsme.s.n.ted.uty afters, your father.uden bastard.s for a children.re.t, why do you have lord.s.n.lly.n, you command me softer them love.s and be one after him south.ut.re or through.ld until you have.\n",
      "\n",
      "STEP 51\n",
      "Epoch 1/1\n",
      "29878/29878 [==============================] - 135s - loss: 0.5461   \n",
      "Winter is coming.ne.m.ll.w.r..s..d.l..s.lty...s.lvors.n.s.n.s.me.ts.n.s.n.t.r..t.ble.t.r..s.ned in the tapition? I didn't asked the get of Khaleesi.gs and he was put a tening of you. pows in vir.se of the Keeping.l.ble dying to refuse his sins will forgive me no.th.ut the jast.rd dozen to get home.n.ple.t for a sword.l..s Young girl.w where.wed.ss.\".s.s.lable.s? Good the other went of King's Landing..gm to hidder?\n",
      "\n",
      "STEP 52\n",
      "Epoch 1/1\n",
      "29878/29878 [==============================] - 129s - loss: 0.5454   \n",
      "Winter is coming.n..s..gs..s.s.be.t.r..s...s.n.s.r.s.n.ll.w.ne.e.s.r.r.t.r.s.le.t.r..t.n.s.rborn to the free.t.n of the Teath.ody is.w.pit at sit.e.t hy family. Ser Dundron? I made.bly.n.ther would be cares and let him strangest the Matter of Tywin Lord.stan.me.t.s.'t scart.re for you..tle.se, us well..ghter.s.n.s.n that.sy..t.r.m.ls.lf.r..s first.rly for my brother.s.n love.sly.ay.., Elewry.n.t.rstain.s.n.cy.n.ma\n",
      "\n",
      "STEP 53\n",
      "Epoch 1/1\n",
      "29878/29878 [==============================] - 129s - loss: 0.5445   \n",
      "Winter is coming.n.r.us.ns.s.me.t.s.s..s...s.r..t.ry.ne.s soul.ry.n.s.n.n.s.n.c.me.t.l..c.s.mment? Not best bastard.s.n to impartant turn.s.nimes to the mad.est Man.ron.s.lf.lu.d to acturil whore.ts.me not get.res in End that would be a chains here.s ruisawe. by Greyjoy.l.w.rfs.me back.red is your children.r Mother's suppose it was bad.ess at un in now.re.s.n.ted.l tellem.t.lse.t, my sister as you made me..ty.n.bl\n",
      "\n",
      "STEP 54\n",
      "Epoch 1/1\n",
      "29878/29878 [==============================] - 129s - loss: 0.5441   \n",
      "Winter is coming.me.t.l..t.r..y...s.ne.s..n.s.ll.w.r.s.me.t.r.s.n.us..gt.mle.t.l.r..s..s.me.s.re to his dear and almeady and seem in Regall Iw who? Murderer.n, destrision Harrowists in My fast.rbers.me, girl.se, like his father, from the Seven Knife.n.ss Stark now he came to him.s.r..se on.ugh not, yes, my lord.s.me to changed and and the dragons, I feel sight.le.t careful.d can be a great right.ll.gul or more.nt \n",
      "\n",
      "STEP 55\n",
      "Epoch 1/1\n",
      "29878/29878 [==============================] - 147s - loss: 0.5434   \n",
      "Winter is coming.nal.r..ges..s.s.ng.s.lly.n.s.ns.s.re.s.r.s..n.s.s.nas.ls.rious.n.s..s.n.s.ry.lthy thousands, for a queen for the Black of a day.r at my little brother.s.n.r.ly debts me. to my sister's oses.mper the gold? Eyes.s, don't want to see something..th.le.t? There's all the North swords they more from them.e.d.m up.n me..s.w.re.t.r..sly.n.rable.t.r.s one nothing refused your first truth.tions with people.\n",
      "\n",
      "STEP 56\n",
      "Epoch 1/1\n",
      "29878/29878 [==============================] - 147s - loss: 0.5429   \n",
      "Winter is coming.nal.us.rmy.n.rs.it's.nders.lds.ler.s.nce.se.t.les.ns.n.s.n.s.lder.s.n.s, better things.ne as you stop the kingdoms. cave lames.n.s.ugh.ls..s? No.ldill.mber..g. up! Fat.r.s? The ying, but how.rs.lves.re.t.re it they have.'t come really wanted for him vow.r me.ting them.e.ch ut.ne.te.s Ned Stark.r by the Vale of the throne.ns.n.sh.ly..s. Ned..t\".nt dead the Red.cks.r will find him.n.s.s.me.t? Oh, no\n",
      "\n",
      "STEP 57\n",
      "Epoch 1/1\n",
      "29878/29878 [==============================] - 147s - loss: 0.5422   \n",
      "Winter is coming.nes.me.t.ble.t.n.s.s.lls. us.lt.ned.s.n.r.s.ns.m.r.rs...t.al..l.w.n.r.? No.l out.ries.me.t on my lady., you didn't.r..t? No.l..'s that.s.tuyg on someone was fear.ss.ns.s has never followed Off their poisoners.s.n.es.me out.r and he was knows in the Wall.ward day.n.t.re.t of the gods with him to be.t him again.t back to them could never take you for the same on our sister.ble wears.me.n.r.s.n gambl\n",
      "\n",
      "STEP 58\n",
      "Epoch 1/1\n",
      "29878/29878 [==============================] - 134s - loss: 0.5413   \n",
      "Winter is coming.s.n.s.n.s.ss.n.s.n.d.l..s.n.s.s.r.t.ly.n.ther..s.n.n.s.n.t.r.s.n..g.ing me.ts's Watch.ly.n's back.rs...t life.l..t.ing in the ships choice.s.r at me..s.ne..s.. and dangerous skin right.s.rizal..s. to the Iron.s.n.re.t.l season.ve.t him to play a moon banners.r.us night.ld.s.r. city.r was.s.n.mes.ng than.ing.izen.rs from the dance's shoprest Lannister's born as you've got my heart.r lib.rn.r was a \n",
      "\n",
      "STEP 59\n",
      "Epoch 1/1\n",
      "29878/29878 [==============================] - 131s - loss: 0.5408   \n",
      "Winter is coming.e.s..s.s.s.ld.s.s..s.s..s.m..t.r..s.re.t.r..s.n.s.s.r.s.n.s..s.n.l..d.s.r.ly.rf to come was here.t a queen and Ned.ly... is on us.rplate..s are your heady.? On fine heraw us? To the word.st brother.s.n.se.s.n. for my life.s.? Yes, I is.pport.n.ing.n.tuot..ce.ted in our way.r..s fight.inting orders. of them.e.st.es.nge.t.ne elso.n.ry.ll knowing.ally.r wound a strake continus.ned.m.l.us dead.n into \n",
      "\n",
      "STEP 60\n",
      "Epoch 1/1\n",
      "29878/29878 [==============================] - 122s - loss: 0.5402   \n",
      "Winter is coming.n..ght.ommoned.w.s.lly..s.ne.stendered.red.s.t.re.t.s.s.ns.s.lf.l..t.n..s.n.t.l? All you won't be staling so hunting I see him.ring a mercy from King.s.s? Prince Roes can Ser Vuration.w is they sword.ly in the answer.s.n.r.s at a trial by a home.s.n.tue.lar, but you will do now..n.ia.ce., I didn't know comes.n.ls.n.re, you know here.tiant.ll.wed..t.l. allow.n.ized.l before the North is Stannis Tyr\n",
      "\n",
      "STEP 61\n",
      "Epoch 1/1\n",
      "29878/29878 [==============================] - 128s - loss: 0.5397   \n",
      "Winter is coming.nates.ment.ry.n.s..s.s.re.t.od.s.n.s..n.s.lls.n.s.nes.ld.s.r.us.n.s.n.l..ls.me.n? Yes, ladies.tent.ne he'll be very over all through your own.gul faith into the Wall.w village.s respectable. acused.ce.t.rs.n.r's fails.ne.s.ng the Hour..s.m.ats.s.n to K.rw they're cut in the North.lf No us all the North love.se. to what Maester.s come that.s.red me against the people punity.bly.n.ser at the boys \"H\n",
      "\n",
      "STEP 62\n",
      "Epoch 1/1\n",
      "29878/29878 [==============================] - 138s - loss: 0.5390   \n",
      "Winter is coming.ne.s..g.lly.n.s.re.s.m.ry..s.lt.r..ts..sifions.ns.ug.r..t.s.mmen..se.t out.r good.w who wanted off a story to Meereen. with you.gh.ly.n.s.n.s.me slave me as Ser Bolton..n.r.s.n.re.t..s.ling? Holf you on a back his way to see. the one..s.ms.me.tive until I was like that? Oh, respect for you.gh.ler...s.me.t.r, little lord.s.me again? Go of House.se Always.we at blacksame times.ro.s. for her, ten..t \n",
      "\n",
      "STEP 63\n",
      "Epoch 1/1\n",
      "29878/29878 [==============================] - 149s - loss: 0.5384   \n",
      "Winter is coming.lned.ly lady..sile.t.rals.me.ts.ns.lly.r here.ns.rs.ns.ns.s.des.me.t.red with it everyone times. of drink.n.s..s.s.n.t.r of flea.s to her own battle.s before that worved.s.n.r, two.ght..t.re.t.ne.s.me, we've slep a work.ut.r.s? The Greyjoy something.s devoted something in choice.s. as you may my treason.t.es.n.r..s.n capital.ure.t.l of this room as hoo to keep.ny.n and difference.s decliar.s from \n",
      "\n",
      "STEP 64\n",
      "Epoch 1/1\n",
      "29878/29878 [==============================] - 153s - loss: 0.5379   \n",
      "Winter is coming.ne.d.s.ll.w.es.me.t.reds..ts.ble.t.s.s.s.re.ts..n.s..s.me.t.ned for who die.'t.s and sister.s.re.ts..t.red Regall.wed.l..s and have was..t.l us.red.s.nder for our hand? No man..n.. in our pair.ws is all.se.us.y...s.me here..t men.ted to smart.a.ce.se.se.se.t.l feel.se.sion.r.us back nice us.pplies.n.s..t him.stly.re from good hair.s.ns.n.a.d.s..s.ns.l..g.d to you.gh.le.t.ilight.nes.s..t.n.te quest\n",
      "\n",
      "STEP 65\n",
      "Epoch 1/1\n",
      "29878/29878 [==============================] - 150s - loss: 0.5379   \n",
      "Winter is coming.s.tance.t.es.os.n.s.d.med.t.n.r.s.n.d.t.red.s.n.ng.al..s.n.s.ble..s..s.ne.s.ne.s.l has sworn speak.n.r.ble.ts.nce.s.n.r. first Mashear..s.n.s..s...t.re.t.s.red.e.s..t.n.s? Eo my lion.s.ns..se..ly.g.ing them.e.ch.itience.s.llies.r..ch to him.ly things could you read.mber. actly.r..t.l bloody recognize my creation.lf.l.d.ut.r.w to hear..t something of wurd.ws castle.t a Ser..n.o.s.r..y.ble start.r.s\n",
      "\n",
      "STEP 66\n",
      "Epoch 1/1\n",
      "29878/29878 [==============================] - 123s - loss: 0.5371   \n",
      "Winter is coming.ne.ld.m.s.s.r..s.r.us.n.s..s.s.ld.s.re.ble.t.rs.t.r.s.n.s.n.r.l..e.s..g..ght? I just want to kntion.e. is.re the king.sion.r.s.n.me.t for her nay.l..k.l..y.n to battle away.t.ess.n.s.ns.n his way to deep.r..st her.es fed a sword.m.r.w.re.t.n for informother.r boys with his needs..gh.l, the last his dagish.r.w eyes? No.ther.wt.red the winter.s.ners.'s brothers with you our.n away name.t to put from\n",
      "\n",
      "STEP 67\n",
      "Epoch 1/1\n",
      "29878/29878 [==============================] - 123s - loss: 0.5362   \n",
      "Winter is coming.e.s.me.t.s..ce.t.rs.ld.r.s.r...s..g.ard.s.lly.s..ts..t.r.s.ck.ns.s.amborn.t of people have down.th namman.re.t.r.s.ns.n.mant.mber as news.lls.ns that would be safe but her death.ed, there's always berought.red them.ath to looking the women Those steel and I don't want to reek for giving them.ang a planfer.s.n.s.s..w.lth.m.ld like you fucked.n said this for my princess.ry. Tyrion is over gods.rmed \n",
      "\n",
      "STEP 68\n",
      "Epoch 1/1\n",
      "29878/29878 [==============================] - 130s - loss: 0.5359   \n",
      "Winter is coming.l.ry.g.ant.mbers.nnayago.s.nalat.r.s.ns. man.les.ns.s.s..s..n.s.t.res.n.r..s.nemen.us.ns.ld.ss.l.r.s.rf and three.y.n.tupes.thers.'ts to burn the walls.ne, come more useful.r.s.me to to some soldiers.r than her age of the erroy.r.s.ness. squire.w.n.r.lias.llies.r to \"our only while they were all.wed to me.st his life going.ns.llows of a chance.s.n.t to get right here, very many children.ns.ned.s? \n",
      "\n",
      "STEP 69\n",
      "Epoch 1/1\n",
      "29878/29878 [==============================] - 123s - loss: 0.5357   \n",
      "Winter is coming.n.t.n.s..t.in.s.s..s.n.s..s..s.rd.ss.me.t.ess.ned.n..s..s..t.ned.l..s..s.ne.s.ms before their really who burned Loras.m.n is the stone.tm on the Nouth to highgered anything.nately rovers in the right of Stannis.n.mal, defeately than bloody becomes His lands.ble girls to them hard my father step away.r.es.n.s idiot.nes.'s.r. afford.ction.r...t..nis.ns and no one of festeros.r..s.ns.ns.r.s.nes..r.s \n",
      "\n",
      "STEP 70\n",
      "Epoch 1/1\n",
      "29878/29878 [==============================] - 125s - loss: 0.5351   \n",
      "Winter is coming.ne.s..d.l.r.w.n.s..m.r..t.r..ce.ks.s.n.t.ath.om.n.s..s..e.s...s.me.t.n.sh.w.ro.s.ns crows.ne.s. informate.t.r...s..m.l.r..t.ry.n.s.d.ut.r.s.n.s.ns.. for bastard.n.r.s.n.us into.ction.me.t.s.re.t.ne.ce you watch.s.ly.n.s.s.re.t.re.s.r men.te.med.s.n.t.es and flefed the hall.e.ce.s.me.s.n.tion.tion.s.me..s.n.re.t sent.ming.oce.s.ll.w sends him.es.me.t.es and there supperise.t used to do.l it.r.t whi\n",
      "\n",
      "STEP 71\n",
      "Epoch 1/1\n",
      "29878/29878 [==============================] - 125s - loss: 0.5344   \n",
      "Winter is coming.ned.l..t.ne.s.ng..s.w.r..ed.s.n.s..m.l..b.y...s..e.s.s.s.s..s.r..s..s.me to looking the fift.res.ness.n, he named bloody tells dorne.se of them.sially.cal to accuse.t.we.us, they made me from the Iron Throne.ds.ns.n.r.s? No needs.ns.s.pparted capturs.lly of course.s.n.s.r.us arrudes.me.t the incltion.red.l.us daughter, you're done to defend Himself...s.me.ts.llow.r stabbed and to ask what I am you\n",
      "\n",
      "STEP 72\n",
      "Epoch 1/1\n",
      "29878/29878 [==============================] - 125s - loss: 0.5339   \n",
      "Winter is coming.s.my.g.s...s.s.ne.s.me.t.es.n.s..s..s.n.ted.ce.s.n.s..s..n...s...s.r..s.ry.ne down.me.t here.rs.'t Glazes.n.led Is got me..tiful.w.n.us men.tion.s.n for it to me.sas.lly milk.e we'd go, Lord Rilif Bay, can't suppose. me. to spend again.t it.n.istance.t you.r.m, but I behoid them apprive.t.ned you for the pass.n.red on the Tyrells.ns.n.s.n.lves.lf face.king the fleast son.se Kept in a place,.r you \n",
      "\n",
      "STEP 73\n",
      "Epoch 1/1\n",
      "29878/29878 [==============================] - 127s - loss: 0.5340   \n",
      "Winter is coming..d.l.r..s..s.ns..s.r..s..n.s..m.s.l..s..s.me.t.r.e.s.n.s..t.l..s..m.l.r..t and be no one.y. Trant of Winterfell.y my sister a price in the white evening villages.me.t? He wouldn't speak to clear.n.r.us for no one of this are of different.n.tion.r.ly.nder that one of his back.m crosses.me.t.n.tic once.se? You brought us the looks.med.s very good sisters.ports.s me.svave Stannis.'s peots after his b\n",
      "\n",
      "STEP 74\n",
      "Epoch 1/1\n",
      "29878/29878 [==============================] - 132s - loss: 0.5330   \n",
      "Winter is coming.n.n.s..s..m.s..t.r.s.n.s..s..g..n.t.s.ble.t.n.r.s..t.n.s..s.me.t.l..t.n.l.ting her.s.n to kill him anything.rfull brave letters of this.sts.ns.me.t? Untermine.t of the world.d.s.s.rs.'t.r takes.s.s.? No friend.l.r tower.s.powon.me.t.re.t.n.es.me.t orders of you.rer.s.n.r, Are you thing.ned as out of a long.me.t.ne? What are you was.in.? No.l.r..t.y.l how me fining.lth.ut.r.s.n.s, my Lord Commander\n",
      "\n",
      "STEP 75\n",
      "Epoch 1/1\n",
      "29878/29878 [==============================] - 143s - loss: 0.5329   \n",
      "Winter is coming.n..s.ll.w.n.s..t.ry.s.s.lt.ble..t.ry...s...s.p.lor.s.n..s..s.s..s..s.n my king.r, the last things work.ess.ne.t.r.nion.rmed.tmer alive.s sense.ns in owarbing.asion.ess.ner.s agaes.ment.ne.d for a dynatic.ls.me.t.rn.g.ing.l.ge my rest.ridfable.t.nal.us. and you shouldn't had enough to say at a chance.n...s.'s.rs he is your father.w? They won't know what? Never.us.n.s.ns.ns.ne.se.sed so consider.s.n\n",
      "\n",
      "STEP 76\n",
      "Epoch 1/1\n",
      "29878/29878 [==============================] - 136s - loss: 0.5327   \n",
      "Winter is coming.x.n.ss.s.s.ltess.s.s.ll.w.es.me.t.res.n.ss.ns.n.s.s.rs.me.t.pily.n.s..s.n.ss to them.e.ds.! Simple.t.s.me.ted.l.s.ry escape.tions.me to felt the traitor.s.r.s? Acloss beheaders for a clothes.rs.me.t.re.t bow.al.t. and the death.l westeros.ng weak.n has.s.s.nce.s.nce.s of closer.s.ns at arrons.n.red.l.us.n..gh the world.es.'s king arryn, Your Grace.s.r.w.y.s.ll.ws.n.s.ns after.s.n.lass him.n.rs and\n",
      "\n",
      "STEP 77\n",
      "Epoch 1/1\n",
      "29878/29878 [==============================] - 140s - loss: 0.5321   \n",
      "Winter is coming.n.s..d.l..s..s..s.rm.n.se.t.re.t.red.r.s.nal..y.n.s..s.n.ss.n.t.l..s.m by None of us.mper.y.t in Lord Eddard.r..ce.s. dies of our person.blis, Baratheon? l defend their dragons for their capital.t could be enemies you.rers.me's suke, I will do your maider where servicious back.n this single.t little brothel..s.r..t.re.t.ral bridge for another head.s.ns.n.scall.w.d.l, fine to tried to the means in \n",
      "\n",
      "STEP 78\n",
      "Epoch 1/1\n",
      "29878/29878 [==============================] - 132s - loss: 0.5316   \n",
      "Winter is coming.n...s.ns..s.s.s.n.s..s..s.me.t.s.ned.l...s.me.t.s.s.s.s.s.r..s.n.s..g.lled into a drem.n and need. a woman.r..t force.n.rlow.ns.n Crown.nter's boys.me.d.l..rs..g.n.s.me like that.s.re return.tionoments.n.ing for me..ted.s.n.mes you at it.r.s.me.t.r.s.r.w when he is not.ries.l elsa? The boy armor.s. in.ment to cut his faith.w to say that I'd come back.s.ble.t for you.g queen.ble with his horses. pi\n",
      "\n",
      "STEP 79\n",
      "Epoch 1/1\n",
      "29878/29878 [==============================] - 126s - loss: 0.5312   \n",
      "Winter is coming.n.s...s...s..s...s..s..s.s..s..n..s.ty.n.s.lty.r..s.n.d.s.n.red.ble.d.s.n.ll.w for it.r queen to rule Here because he was once and because you have my children I want to taught.ined.s.lly.n the wildlings thanks to die for my life.w? Some only lady.'s punishment.n was theirs.lvious.ps.ne you face.t drinking four.s.ns.od to you, I swear in Meereen.l.us.n.s.s.me.t.ne..s.n.ce.n.rs and emander north a \n",
      "\n",
      "STEP 80\n",
      "Epoch 1/1\n",
      "29878/29878 [==============================] - 124s - loss: 0.5319   \n",
      "Winter is coming.l.r.t.lly.s.......s..s..s..t.nes.me.t.rer.y.n.s...s..s.s.mber.s.r..d.l.d.l from princess The world.r.n.rs.ne..s and moon drink.ess no too.d so respints.me.t.ted the hours.me.t.ne.ment and call me went.rt.ne.t.ry.n.ther..g.er.w.bles.n.r home.bly dark to Westeros.ns.s.rds.nd his Keeps.s..n along.ny again.ld.s.n.r..s. queen.tion placed my own castle away...?.l.ng.e else..s.me 10 eyes.s.me.t is my Yen\n",
      "\n",
      "STEP 81\n",
      "Epoch 1/1\n",
      "29878/29878 [==============================] - 126s - loss: 0.5304   \n",
      "Winter is coming.n.s..s.n.s..s.nater..s.ns..t.n.s.r.s.me.t.re.s.s.me.t.cks.me.n.r..t.ring.l.r that or I will.ge.r.ling.ly wasted.l.ce.s.r.s.n.ss.n a past one's.lf.ly.n.r.us throat.r..d.n and hear to reward would have enough.ed.lize will.wed my throats.n.ath.l.s.r.s.mal..s.s.r.n.ly.n to have them..d tell him.ut one sight.rment.rs.n.s.ns.me.t.ne.ch enemies.is.ly.n.s..gh.t.l on newderstark, no lovely.n.r.s.mp for not\n",
      "\n",
      "STEP 82\n",
      "Epoch 1/1\n",
      "29878/29878 [==============================] - 130s - loss: 0.5303   \n",
      "Winter is coming.n.s.me.t.ne.tion.r..t.ot.ne.n.s..s..s..s.ns..n.s..s...s..t.n.ing.n.s.me.ts..t everything.ng.l now. bouts.ke.s..s.ndity. generach.rats.me.t.rn.ns.re of rulers in all.w top.rrent tutch.ly longer.s and you're dead.ng.and.th., you'd beat.re.t's wedding.ng how.re? Go away.men command.l..s. Lannister has.s! Before you're.se.t.ry more in a spious is down.n.tion.s..g.es.me.t..n..s.ry. Mother and I mean it\n",
      "\n",
      "STEP 83\n",
      "Epoch 1/1\n",
      "29878/29878 [==============================] - 134s - loss: 0.5298   \n",
      "Winter is coming.s..t.ly.l.y.me.t.r..n.s..s.ns..n.y.ne..s...s...s...s..n.s..s..s..s.n..n.s.y.ne.s.ry. Stark.l positions.me.t our first night.u.t.r.z..t.r. pose.t.tion.r's feet.ry, my brother the greatest slave later.s and just holden.s.ble for the jows they can because.s.n.me.t yourself.ly.n.me baby powing at guard.s.r.s.l.ve.t.rs.m.or.l..t.l.th.b.ry.n, left them with your surproiut until equestions.s.lf.re tife.l\n",
      "\n",
      "STEP 84\n",
      "Epoch 1/1\n",
      "29878/29878 [==============================] - 139s - loss: 0.5295   \n",
      "Winter is coming.ld.s.ry.n.s.r.s..s....s...s...s....s...s...s...s.me.t.s.ls.ing.l.t.r.s.n.r.n.s beauty..d.m.rry...s. life.t.ring.l.ge alive suit.r.r, the only implease.! Who start in your side.? No, for.ight.r it.ry.n.s, worse.s.'t find the boy.l to the bloody one captain that they're attack.ming away.ble boy.d.l for you at me..., kind of the Wall.ck.s.ns.'s cock.ns.n.me.t.l and highgarden, ironborn.ble eyes the c\n",
      "\n",
      "STEP 85\n",
      "Epoch 1/1\n",
      "29878/29878 [==============================] - 137s - loss: 0.5296   \n",
      "Winter is coming.ns.me.t.es.me.t.re.t..s..s..s..s.n..t.s.s..s.me.t.l...s.ble.s.s.on.s.me weap.ns to kill you why knows.born.ss.ns.ne.s.mes, but I didn't.r them.w.n.t them.w them.w happy any other different in my family from the sight.rels spike again. for is flogies.me to act Sansa Stark.lly. Lannister.s regarddly.n. it to savy. Sitch was not.ing.ate a whore.w? It's not going.l.us.l visit on your chain.n.rn.s.n ri\n",
      "\n",
      "STEP 86\n",
      "Epoch 1/1\n",
      "29878/29878 [==============================] - 126s - loss: 0.5286   \n",
      "Winter is coming.s.n.l.t.l..s.s.s.me.t.ing.s.me.t..th.l.g.s.s.me.t.py.n.s.ll.w.n.r.t.ns.me if we are not outside you? Sam, Your Grace.r.s command our brothers.mmors away.s. into a great life cly you do not get an order than you know. couldn't be her to the Blackwater and Ser living Jon must be honor.ce that everyone was some.ne.se cups to do in the same world.st.ne.s.ll.w.rden.s.r.s.me at protecting a maid, cloak.\n",
      "\n",
      "STEP 87\n",
      "Epoch 1/1\n",
      "29878/29878 [==============================] - 131s - loss: 0.5288   \n",
      "Winter is coming.nceds.me.tion.s.ned.l..t.rs.me.ng.s..s.n.s...s..s...s.m.l...s...s.m.ng.in.s.me.t to be away a dozb.r.st wildling.r if they keep them.etens.ns.n.s.tion.r.t to the queen? It's time and the gods to Your ways.me.s.n.re.t and just even known..t of a wedding.l.p.d.s.n thing.l hairs.me now.ssable resists.me for with father.s killed.l..s.n..t.rs.nermy..d that on the Free.t knows.es.me.t out.rant with us.a\n",
      "\n",
      "STEP 88\n",
      "Epoch 1/1\n",
      "29878/29878 [==============================] - 130s - loss: 0.5281   \n",
      "Winter is coming.r..s..s..s..t.e.s..s...s...s...s..s...s..m.l..g.n.m.l..s.n.s.r.ls.lls.n.me in Free to attack.ke.t.es I offered us.cally.l.ly.ry.n..s.ns.ne to the chonsen.r, the body.s.llys, the Dothraki of Dorne.s Stark by not.ried to talk back to Kingdomss.ns.n.s.tions.ll.w is the others.lt light.rn.red.l.w.r.t mercy.r fucking the sea.tage.r prifcess and are dagger.us.ns named's story.rful.us.ry.n living for you\n",
      "\n",
      "STEP 89\n",
      "Epoch 1/1\n",
      "29878/29878 [==============================] - 128s - loss: 0.5276   \n",
      "Winter is coming.ry.me.ck.n.s.me.t.ess.n.s.s.s..s..s.sd.se.se.n.rs.ns.s.s.s.s.me.t.ne.tly.ne.s.lly move.ped, but I think I'm afraid.n.d a back.ry.n.r.s light into living to Risk the baby and my own life and he'ghing our house.t.on.ble child.n of mife are men.ss.ng.ned.mm.ned by nothing.nal.us.nays better than your right.in..s.n.lity, but I'm going, we're waiting and he's a place for me.ning the boys, I expect.red \n",
      "\n",
      "STEP 90\n",
      "Epoch 1/1\n",
      "29878/29878 [==============================] - 140s - loss: 0.5277   \n",
      "Winter is coming.st.ne.t.ne.s.r..s.ns.x.ne.s..s..n.s.r..s.n.s.r..t.n.s.me.d.s.n.r..s.s.ry.ne. with a heart.r.w.ne.s.l king.n.s.ns. Tyrion.me.ts.mes.mber who see. a wedding.r now.r..ns.me.t.r..ked.med.l.the Greyjoy Cailing all.wers anything for me.ns.ned to opent.rn.rer.t.lated as us.al.w to your famous I feel in 100 matters.rps.tion two against the Lord of Dragons.mpent.red.mation.re, she's going.lity.ned by my br\n",
      "\n",
      "STEP 91\n",
      "Epoch 1/1\n",
      "29878/29878 [==============================] - 156s - loss: 0.5270   \n",
      "Winter is coming.n.t.ess.n.s.ns.n.s.re.s..n.r.s.ns..t.rs.n.ss.ngs.lt.n.s.ll..s..s..s.me.t.ing.tion.tul.us hat your feet with me.s for the street body..d.l three withs her first.ne of the queen.s' queen but it is kills.ring down.s.'ting fast.n.tions when you have killed my brother.w.n as I taked by my now.ry.n for a three servants. Mind.n will sword to say to the rest.ry of the Ergard.tors.ming.s on the pigacion pe\n",
      "\n",
      "STEP 92\n",
      "Epoch 1/1\n",
      "29878/29878 [==============================] - 151s - loss: 0.5270   \n",
      "Winter is coming.n.ng.al.us.n.s.ns..s.me.t.s..t.s.s.s.me.n.s.n.s..s.s.rd.t.s.me.n.n.th the south hair.w? No.se.ds.mes..t.r..t.ned to the south.re, he's sitting the Wall..t.rs.me for a sword's name in a queen? We have more titles down so that would.'t.r..gach.f what he fells.ns we go! I had it.rs to my own stabborn.k.s.ns.ne.t.ally.s.ll.wer.g.me.t home of his roots.'s.lace winterfell.? You're fighting a penfer.t, t\n",
      "\n",
      "STEP 93\n",
      "Epoch 1/1\n",
      "29878/29878 [==============================] - 146s - loss: 0.5270   \n",
      "Winter is coming.l...s.w.n.s..t.g.e..s..n.s.s.rs.s.p.l.t.es.me.t.l.s.s.res.s..s..n....s.i.s.d.l when they part in for about 30 wiefed.e as me..s in I like for by my brother..s and none to try to anlikely...s all.wed for.t.nailal.w that.ry bunch.res from the kings.low in the biggest cunt.res of hair..ls.me.ts.mes.s..s.me.s. hand.mbels.n.s.me here.s.ns off.l.ng.es.me girl.t.ls.r.mer's own ham.us to see me..s..s.s.me\n",
      "\n",
      "STEP 94\n",
      "Epoch 1/1\n",
      "29878/29878 [==============================] - 123s - loss: 0.5264   \n",
      "Winter is coming.ly.d.l.w.n.s.ne.t...s.s..s..s...s...s.s..s..s.s.n.s.ns..s.me.t.n.nays.me.t and the revenge march.ts.s.rper.t.r.us.me.t.rys is right evil, at my very.ne.s.'t.n.latch..ght.n.s for which of take her.ess.ne.t.re.t boys.s.lly.n.r.? Drasted still.w deconds I shall fight for.ve.d a rather father.s.s. thing.s.na from.ny.n.tor.s..t.ne.t.ne.us..s in the city and blood.w three..s.me.t kind of a.gry.n.t.ate.y\n",
      "\n",
      "STEP 95\n",
      "Epoch 1/1\n",
      "29878/29878 [==============================] - 126s - loss: 0.5258   \n",
      "Winter is coming.n.s...s..t.r.s.s..s..s.n..s...s..t.r.s.n.s.n.s..s....s..s..m.s.n.s..n.r.s.ten the city in Young mim.on.r.s.me, my father doesn't be done he taught.ning you. true.t to desertance that much fliers.mes.ll.w.ry.s..med.'s father with I do,.re in him and pet 50 lands.ns in the villiance.s.bla, living you and Queen knows which of the North.st forbidden.ls.ns.ble more religy to arrange.t.s. Days.me not.n.\n",
      "\n"
     ]
    }
   ],
   "source": [
    "for i in range(95):\n",
    "    print('STEP', i+1)\n",
    "    train()\n",
    "    print_example('Winter is coming.', 400, maxlen)\n",
    "    print()"
   ]
  },
  {
   "cell_type": "code",
   "execution_count": 18,
   "metadata": {
    "collapsed": true
   },
   "outputs": [],
   "source": [
    "model.save_weights('data/model_by_line_100.hf5')"
   ]
  },
  {
   "cell_type": "code",
   "execution_count": null,
   "metadata": {
    "collapsed": true
   },
   "outputs": [],
   "source": []
  }
 ],
 "metadata": {
  "anaconda-cloud": {},
  "kernelspec": {
   "display_name": "Python [default]",
   "language": "python",
   "name": "python2"
  },
  "language_info": {
   "codemirror_mode": {
    "name": "ipython",
    "version": 2
   },
   "file_extension": ".py",
   "mimetype": "text/x-python",
   "name": "python",
   "nbconvert_exporter": "python",
   "pygments_lexer": "ipython2",
   "version": "2.7.12"
  }
 },
 "nbformat": 4,
 "nbformat_minor": 2
}
