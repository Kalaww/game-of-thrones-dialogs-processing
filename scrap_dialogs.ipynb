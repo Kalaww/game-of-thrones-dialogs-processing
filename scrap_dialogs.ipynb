{
 "cells": [
  {
   "cell_type": "code",
   "execution_count": 32,
   "metadata": {
    "collapsed": true
   },
   "outputs": [],
   "source": [
    "import os\n",
    "import urllib2\n",
    "import re\n",
    "import unidecode\n",
    "import numpy as np\n",
    "\n",
    "from scrapy.selector import Selector\n",
    "from scrapy.http import HtmlResponse"
   ]
  },
  {
   "cell_type": "code",
   "execution_count": 33,
   "metadata": {
    "collapsed": true
   },
   "outputs": [],
   "source": [
    "base_url = \"http://www.springfieldspringfield.co.uk/view_episode_scripts.php?tv-show=game-of-thrones&episode=s{season}e{episode}\"\n",
    "savefile = 'data/sentences.txt'\n",
    "\n",
    "if not os.path.exists('data'):\n",
    "    os.mkdir('data')"
   ]
  },
  {
   "cell_type": "code",
   "execution_count": 34,
   "metadata": {
    "collapsed": true
   },
   "outputs": [],
   "source": [
    "def num_to_str(num):\n",
    "    if num < 10:\n",
    "        return '0'+str(num)\n",
    "    return str(num)"
   ]
  },
  {
   "cell_type": "code",
   "execution_count": 35,
   "metadata": {
    "collapsed": true
   },
   "outputs": [],
   "source": [
    "def clean_sentence(sentence):\n",
    "    ban = ['(', ')', '@', '#', '\\x00']\n",
    "    sentence = unidecode.unidecode(sentence)\n",
    "    if any(b in sentence for b in ban):\n",
    "        return None\n",
    "    sentence = sentence.replace('-', '')\n",
    "    sentence = ' '.join(sentence.split())\n",
    "    sentence = sentence.strip()\n",
    "    if sentence.startswith('l'):\n",
    "        sentence = 'I'+sentence[1:]\n",
    "    if len(sentence) == 0:\n",
    "        return None\n",
    "    return sentence"
   ]
  },
  {
   "cell_type": "code",
   "execution_count": 36,
   "metadata": {
    "collapsed": false
   },
   "outputs": [],
   "source": [
    "n_season = 6\n",
    "n_episode = 10\n",
    "\n",
    "sentences = []\n",
    "\n",
    "for season in range(1, n_season+1):\n",
    "    for episode in range(1, n_episode+1):\n",
    "        url = base_url.format(\n",
    "            season=num_to_str(season),\n",
    "            episode=num_to_str(episode)\n",
    "        )\n",
    "        response = urllib2.urlopen(url).read()\n",
    "        selector = Selector(text=response)\n",
    "        \n",
    "        script = selector.css('.episode_script .scrolling-script-container').xpath('./text()').extract()\n",
    "        for sentence in script:\n",
    "            sentence = clean_sentence(sentence)\n",
    "            if sentence:\n",
    "                sentences.append(sentence)"
   ]
  },
  {
   "cell_type": "code",
   "execution_count": 37,
   "metadata": {
    "collapsed": false
   },
   "outputs": [
    {
     "name": "stdout",
     "output_type": "stream",
     "text": [
      "29878\n"
     ]
    }
   ],
   "source": [
    "print len(sentences)"
   ]
  },
  {
   "cell_type": "code",
   "execution_count": 38,
   "metadata": {
    "collapsed": false
   },
   "outputs": [],
   "source": [
    "fd = open(savefile, 'w')\n",
    "for sentence in sentences:\n",
    "    fd.write(sentence+'\\n')"
   ]
  },
  {
   "cell_type": "code",
   "execution_count": 39,
   "metadata": {
    "collapsed": false,
    "scrolled": true
   },
   "outputs": [
    {
     "name": "stdout",
     "output_type": "stream",
     "text": [
      "She said it's not safe outside.\n",
      "Sometimes a person has to choose.\n",
      "As is your right.\n",
      "What about my sins? I broke a sacred oath and stabbed my king in the back.\n",
      "When I found you, I thought you'd been dead for days.\n",
      "No.\n",
      "You always knew who I was, what I am.\n",
      "Start a war.\n",
      "We'll visit again another time.\n",
      "I love it.\n"
     ]
    }
   ],
   "source": [
    "for s in np.random.permutation(sentences)[:10]:\n",
    "    print s"
   ]
  }
 ],
 "metadata": {
  "kernelspec": {
   "display_name": "Python 2",
   "language": "python",
   "name": "python2"
  },
  "language_info": {
   "codemirror_mode": {
    "name": "ipython",
    "version": 2
   },
   "file_extension": ".py",
   "mimetype": "text/x-python",
   "name": "python",
   "nbconvert_exporter": "python",
   "pygments_lexer": "ipython2",
   "version": "2.7.12"
  }
 },
 "nbformat": 4,
 "nbformat_minor": 2
}
