{
 "cells": [
  {
   "cell_type": "code",
   "execution_count": 9,
   "metadata": {
    "collapsed": true
   },
   "outputs": [],
   "source": [
    "import os\n",
    "import urllib2\n",
    "import re\n",
    "import unidecode\n",
    "import numpy as np\n",
    "\n",
    "from scrapy.selector import Selector\n",
    "from scrapy.http import HtmlResponse"
   ]
  },
  {
   "cell_type": "code",
   "execution_count": 10,
   "metadata": {
    "collapsed": true
   },
   "outputs": [],
   "source": [
    "base_url = \"http://www.springfieldspringfield.co.uk/view_episode_scripts.php?tv-show=game-of-thrones&episode=s{season}e{episode}\"\n",
    "savefile = 'data/sentences.txt'\n",
    "\n",
    "if not os.path.exists('data'):\n",
    "    os.mkdir('data')"
   ]
  },
  {
   "cell_type": "code",
   "execution_count": 11,
   "metadata": {
    "collapsed": true
   },
   "outputs": [],
   "source": [
    "def num_to_str(num):\n",
    "    if num < 10:\n",
    "        return '0'+str(num)\n",
    "    return str(num)"
   ]
  },
  {
   "cell_type": "code",
   "execution_count": 16,
   "metadata": {
    "collapsed": true
   },
   "outputs": [],
   "source": [
    "def clean_sentence(sentence):\n",
    "    sentence = unidecode.unidecode(sentence)\n",
    "    if '(' in sentence or '@' in sentence:\n",
    "        return None\n",
    "    sentence = sentence.replace('-', '')\n",
    "    sentence = ' '.join(sentence.split())\n",
    "    sentence = sentence.strip()\n",
    "    if sentence.startswith('l'):\n",
    "        sentence = 'I'+sentence[1:]\n",
    "    if len(sentence) == 0:\n",
    "        return None\n",
    "    return sentence"
   ]
  },
  {
   "cell_type": "code",
   "execution_count": 17,
   "metadata": {
    "collapsed": false
   },
   "outputs": [],
   "source": [
    "n_season = 6\n",
    "n_episode = 10\n",
    "\n",
    "sentences = []\n",
    "\n",
    "for season in range(1, n_season+1):\n",
    "    for episode in range(1, n_episode+1):\n",
    "        url = base_url.format(\n",
    "            season=num_to_str(season),\n",
    "            episode=num_to_str(episode)\n",
    "        )\n",
    "        response = urllib2.urlopen(url).read()\n",
    "        selector = Selector(text=response)\n",
    "        \n",
    "        script = selector.css('.episode_script .scrolling-script-container').xpath('./text()').extract()\n",
    "        for sentence in script:\n",
    "            sentence = clean_sentence(sentence)\n",
    "            if sentence:\n",
    "                sentences.append(sentence)"
   ]
  },
  {
   "cell_type": "code",
   "execution_count": 18,
   "metadata": {
    "collapsed": false
   },
   "outputs": [
    {
     "name": "stdout",
     "output_type": "stream",
     "text": [
      "29883\n"
     ]
    }
   ],
   "source": [
    "print len(sentences)"
   ]
  },
  {
   "cell_type": "code",
   "execution_count": 19,
   "metadata": {
    "collapsed": false
   },
   "outputs": [],
   "source": [
    "fd = open(savefile, 'w')\n",
    "for sentence in sentences:\n",
    "    fd.write(sentence+'\\n')"
   ]
  },
  {
   "cell_type": "code",
   "execution_count": 23,
   "metadata": {
    "collapsed": false,
    "scrolled": true
   },
   "outputs": [
    {
     "name": "stdout",
     "output_type": "stream",
     "text": [
      "Let's go, Steffon.\n",
      "Do everything you can.\n",
      "How did you come to be in his service? He stole me.\n",
      "You and Osha and Shaggydog head for the Last Hearth.\n",
      "We've got beautiful women and good brown ale.\n",
      "And why should I believe that? I was born on Pyke to Balon Greyjoy.\n",
      "Only forward.\n",
      "How do you feel? You still don't remember anything? Bran, I've seen you climb a thousand times.\n",
      "I'm not gonna scare it.\n",
      "But everyone has their weaknesses.\n"
     ]
    }
   ],
   "source": [
    "for s in np.random.permutation(sentences)[:10]:\n",
    "    print s"
   ]
  },
  {
   "cell_type": "code",
   "execution_count": null,
   "metadata": {
    "collapsed": true
   },
   "outputs": [],
   "source": []
  }
 ],
 "metadata": {
  "kernelspec": {
   "display_name": "Python 2",
   "language": "python",
   "name": "python2"
  },
  "language_info": {
   "codemirror_mode": {
    "name": "ipython",
    "version": 2
   },
   "file_extension": ".py",
   "mimetype": "text/x-python",
   "name": "python",
   "nbconvert_exporter": "python",
   "pygments_lexer": "ipython2",
   "version": "2.7.12"
  }
 },
 "nbformat": 4,
 "nbformat_minor": 2
}
